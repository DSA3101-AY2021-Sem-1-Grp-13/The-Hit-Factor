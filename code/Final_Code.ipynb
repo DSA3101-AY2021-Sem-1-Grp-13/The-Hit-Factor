{
  "nbformat": 4,
  "nbformat_minor": 5,
  "metadata": {
    "colab": {
      "name": "Final Decision Tree Code.ipynb",
      "provenance": [],
      "collapsed_sections": []
    },
    "kernelspec": {
      "display_name": "Python 3 (ipykernel)",
      "language": "python",
      "name": "python3"
    },
    "language_info": {
      "codemirror_mode": {
        "name": "ipython",
        "version": 3
      },
      "file_extension": ".py",
      "mimetype": "text/x-python",
      "name": "python",
      "nbconvert_exporter": "python",
      "pygments_lexer": "ipython3",
      "version": "3.7.3"
    }
  },
  "cells": [
    {
      "cell_type": "markdown",
      "metadata": {
        "id": "50016b34"
      },
      "source": [
        "## Install & Import Libraries & Get Data"
      ],
      "id": "50016b34"
    },
    {
      "cell_type": "code",
      "metadata": {
        "id": "q0XUPHyekaKy"
      },
      "source": [
        "# Code to read csv file into Colaboratory:\n",
        "!pip -q install -U -q PyDrive\n",
        "from pydrive.auth import GoogleAuth\n",
        "from pydrive.drive import GoogleDrive\n",
        "from google.colab import auth\n",
        "from oauth2client.client import GoogleCredentials\n",
        "# Authenticate and create the PyDrive client.\n",
        "auth.authenticate_user()\n",
        "gauth = GoogleAuth()\n",
        "gauth.credentials = GoogleCredentials.get_application_default()\n",
        "drive = GoogleDrive(gauth)"
      ],
      "id": "q0XUPHyekaKy",
      "execution_count": null,
      "outputs": []
    },
    {
      "cell_type": "code",
      "metadata": {
        "id": "2jtQmUlCkSxS"
      },
      "source": [
        "id = '1bj0yDcTdBedCTQWKaC0JpidjC8QS8Tqz'\n",
        "downloaded = drive.CreateFile({'id':id}) \n",
        "downloaded.GetContentFile('combined_data.csv') "
      ],
      "id": "2jtQmUlCkSxS",
      "execution_count": null,
      "outputs": []
    },
    {
      "cell_type": "code",
      "metadata": {
        "id": "39b420c7"
      },
      "source": [
        "import numpy as np\n",
        "import pandas as pd \n",
        "import matplotlib.pyplot as plt\n",
        "import seaborn as sns\n",
        "\n",
        "from sklearn.preprocessing import StandardScaler\n",
        "from sklearn.svm import SVR\n",
        "from sklearn.metrics.pairwise import cosine_similarity\n",
        "from sklearn.metrics import r2_score, mean_squared_error, mean_absolute_error #, mean_absolute_percentage_error\n",
        "from sklearn.compose import ColumnTransformer\n",
        "\n",
        "from sklearn.model_selection import train_test_split, StratifiedShuffleSplit, GridSearchCV\n",
        "from sklearn.linear_model import LinearRegression\n",
        "from sklearn.neighbors import KNeighborsRegressor\n",
        "from sklearn.ensemble import RandomForestRegressor\n",
        "import xgboost as xgb"
      ],
      "id": "39b420c7",
      "execution_count": null,
      "outputs": []
    },
    {
      "cell_type": "markdown",
      "metadata": {
        "id": "8w3Wtk8D1NK2"
      },
      "source": [
        "## Data Cleaning"
      ],
      "id": "8w3Wtk8D1NK2"
    },
    {
      "cell_type": "code",
      "metadata": {
        "id": "c2fd0c46"
      },
      "source": [
        "df = pd.read_csv(\"/content/combined_data.csv\")"
      ],
      "id": "c2fd0c46",
      "execution_count": null,
      "outputs": []
    },
    {
      "cell_type": "code",
      "metadata": {
        "id": "aa05d9ea"
      },
      "source": [
        "# Remove 0 popularity\n",
        "df = df[df.popularity != 0]\n",
        "\n",
        "# Convert album_type to categorical\n",
        "df[\"album_type\"] = list(map(lambda x: 0 if x == \"single\" else 1 if x == \"album\" else 2, df[\"album_type\"]))\n",
        "\n",
        "# Drop irrelevant columns for model\n",
        "df.drop([\"is_local\", \"time_signature\", \"artists\", \"album_name\", \"name\"], axis=1, inplace=True)"
      ],
      "id": "aa05d9ea",
      "execution_count": null,
      "outputs": []
    },
    {
      "cell_type": "code",
      "metadata": {
        "colab": {
          "base_uri": "https://localhost:8080/",
          "height": 424
        },
        "id": "50150335",
        "outputId": "67f9d66b-cfec-48fa-e30c-e43ef112dbad"
      },
      "source": [
        "df"
      ],
      "id": "50150335",
      "execution_count": null,
      "outputs": [
        {
          "output_type": "execute_result",
          "data": {
            "text/html": [
              "<div>\n",
              "<style scoped>\n",
              "    .dataframe tbody tr th:only-of-type {\n",
              "        vertical-align: middle;\n",
              "    }\n",
              "\n",
              "    .dataframe tbody tr th {\n",
              "        vertical-align: top;\n",
              "    }\n",
              "\n",
              "    .dataframe thead th {\n",
              "        text-align: right;\n",
              "    }\n",
              "</style>\n",
              "<table border=\"1\" class=\"dataframe\">\n",
              "  <thead>\n",
              "    <tr style=\"text-align: right;\">\n",
              "      <th></th>\n",
              "      <th>album_type</th>\n",
              "      <th>total_tracks</th>\n",
              "      <th>explicit</th>\n",
              "      <th>popularity</th>\n",
              "      <th>danceability</th>\n",
              "      <th>energy</th>\n",
              "      <th>key</th>\n",
              "      <th>loudness</th>\n",
              "      <th>mode</th>\n",
              "      <th>speechiness</th>\n",
              "      <th>acousticness</th>\n",
              "      <th>instrumentalness</th>\n",
              "      <th>liveness</th>\n",
              "      <th>valence</th>\n",
              "      <th>tempo</th>\n",
              "      <th>duration_ms</th>\n",
              "    </tr>\n",
              "  </thead>\n",
              "  <tbody>\n",
              "    <tr>\n",
              "      <th>0</th>\n",
              "      <td>1</td>\n",
              "      <td>16</td>\n",
              "      <td>True</td>\n",
              "      <td>80</td>\n",
              "      <td>0.794</td>\n",
              "      <td>0.766</td>\n",
              "      <td>9</td>\n",
              "      <td>-3.894</td>\n",
              "      <td>0</td>\n",
              "      <td>0.0377</td>\n",
              "      <td>0.01350</td>\n",
              "      <td>0.000000</td>\n",
              "      <td>0.0785</td>\n",
              "      <td>0.550</td>\n",
              "      <td>127.007</td>\n",
              "      <td>195873</td>\n",
              "    </tr>\n",
              "    <tr>\n",
              "      <th>1</th>\n",
              "      <td>1</td>\n",
              "      <td>11</td>\n",
              "      <td>False</td>\n",
              "      <td>43</td>\n",
              "      <td>0.626</td>\n",
              "      <td>0.457</td>\n",
              "      <td>4</td>\n",
              "      <td>-13.785</td>\n",
              "      <td>1</td>\n",
              "      <td>0.0384</td>\n",
              "      <td>0.35500</td>\n",
              "      <td>0.000009</td>\n",
              "      <td>0.0668</td>\n",
              "      <td>0.474</td>\n",
              "      <td>102.166</td>\n",
              "      <td>184267</td>\n",
              "    </tr>\n",
              "    <tr>\n",
              "      <th>2</th>\n",
              "      <td>1</td>\n",
              "      <td>10</td>\n",
              "      <td>False</td>\n",
              "      <td>82</td>\n",
              "      <td>0.523</td>\n",
              "      <td>0.606</td>\n",
              "      <td>1</td>\n",
              "      <td>-4.754</td>\n",
              "      <td>0</td>\n",
              "      <td>0.0301</td>\n",
              "      <td>0.51200</td>\n",
              "      <td>0.000000</td>\n",
              "      <td>0.1060</td>\n",
              "      <td>0.065</td>\n",
              "      <td>145.837</td>\n",
              "      <td>217867</td>\n",
              "    </tr>\n",
              "    <tr>\n",
              "      <th>3</th>\n",
              "      <td>0</td>\n",
              "      <td>6</td>\n",
              "      <td>False</td>\n",
              "      <td>42</td>\n",
              "      <td>0.417</td>\n",
              "      <td>0.443</td>\n",
              "      <td>5</td>\n",
              "      <td>-6.261</td>\n",
              "      <td>1</td>\n",
              "      <td>0.0328</td>\n",
              "      <td>0.70900</td>\n",
              "      <td>0.000000</td>\n",
              "      <td>0.2170</td>\n",
              "      <td>0.470</td>\n",
              "      <td>119.903</td>\n",
              "      <td>155342</td>\n",
              "    </tr>\n",
              "    <tr>\n",
              "      <th>4</th>\n",
              "      <td>0</td>\n",
              "      <td>6</td>\n",
              "      <td>True</td>\n",
              "      <td>81</td>\n",
              "      <td>0.247</td>\n",
              "      <td>0.438</td>\n",
              "      <td>5</td>\n",
              "      <td>-8.479</td>\n",
              "      <td>1</td>\n",
              "      <td>0.0358</td>\n",
              "      <td>0.04550</td>\n",
              "      <td>0.000871</td>\n",
              "      <td>0.1110</td>\n",
              "      <td>0.390</td>\n",
              "      <td>185.716</td>\n",
              "      <td>198213</td>\n",
              "    </tr>\n",
              "    <tr>\n",
              "      <th>...</th>\n",
              "      <td>...</td>\n",
              "      <td>...</td>\n",
              "      <td>...</td>\n",
              "      <td>...</td>\n",
              "      <td>...</td>\n",
              "      <td>...</td>\n",
              "      <td>...</td>\n",
              "      <td>...</td>\n",
              "      <td>...</td>\n",
              "      <td>...</td>\n",
              "      <td>...</td>\n",
              "      <td>...</td>\n",
              "      <td>...</td>\n",
              "      <td>...</td>\n",
              "      <td>...</td>\n",
              "      <td>...</td>\n",
              "    </tr>\n",
              "    <tr>\n",
              "      <th>13277</th>\n",
              "      <td>1</td>\n",
              "      <td>12</td>\n",
              "      <td>False</td>\n",
              "      <td>1</td>\n",
              "      <td>0.439</td>\n",
              "      <td>0.891</td>\n",
              "      <td>0</td>\n",
              "      <td>-4.764</td>\n",
              "      <td>1</td>\n",
              "      <td>0.0570</td>\n",
              "      <td>0.01220</td>\n",
              "      <td>0.000000</td>\n",
              "      <td>0.5470</td>\n",
              "      <td>0.695</td>\n",
              "      <td>148.599</td>\n",
              "      <td>168000</td>\n",
              "    </tr>\n",
              "    <tr>\n",
              "      <th>13278</th>\n",
              "      <td>1</td>\n",
              "      <td>12</td>\n",
              "      <td>False</td>\n",
              "      <td>66</td>\n",
              "      <td>0.568</td>\n",
              "      <td>0.495</td>\n",
              "      <td>1</td>\n",
              "      <td>-8.964</td>\n",
              "      <td>1</td>\n",
              "      <td>0.0299</td>\n",
              "      <td>0.35300</td>\n",
              "      <td>0.000000</td>\n",
              "      <td>0.0839</td>\n",
              "      <td>0.303</td>\n",
              "      <td>128.234</td>\n",
              "      <td>281067</td>\n",
              "    </tr>\n",
              "    <tr>\n",
              "      <th>13280</th>\n",
              "      <td>1</td>\n",
              "      <td>11</td>\n",
              "      <td>False</td>\n",
              "      <td>40</td>\n",
              "      <td>0.664</td>\n",
              "      <td>0.622</td>\n",
              "      <td>10</td>\n",
              "      <td>-8.505</td>\n",
              "      <td>1</td>\n",
              "      <td>0.0253</td>\n",
              "      <td>0.09940</td>\n",
              "      <td>0.073800</td>\n",
              "      <td>0.1120</td>\n",
              "      <td>0.614</td>\n",
              "      <td>102.342</td>\n",
              "      <td>310333</td>\n",
              "    </tr>\n",
              "    <tr>\n",
              "      <th>13281</th>\n",
              "      <td>1</td>\n",
              "      <td>13</td>\n",
              "      <td>False</td>\n",
              "      <td>60</td>\n",
              "      <td>0.738</td>\n",
              "      <td>0.541</td>\n",
              "      <td>1</td>\n",
              "      <td>-5.485</td>\n",
              "      <td>1</td>\n",
              "      <td>0.0311</td>\n",
              "      <td>0.55900</td>\n",
              "      <td>0.000000</td>\n",
              "      <td>0.0492</td>\n",
              "      <td>0.309</td>\n",
              "      <td>134.187</td>\n",
              "      <td>387573</td>\n",
              "    </tr>\n",
              "    <tr>\n",
              "      <th>13282</th>\n",
              "      <td>2</td>\n",
              "      <td>47</td>\n",
              "      <td>False</td>\n",
              "      <td>58</td>\n",
              "      <td>0.569</td>\n",
              "      <td>0.901</td>\n",
              "      <td>9</td>\n",
              "      <td>-5.197</td>\n",
              "      <td>1</td>\n",
              "      <td>0.0544</td>\n",
              "      <td>0.00555</td>\n",
              "      <td>0.260000</td>\n",
              "      <td>0.1600</td>\n",
              "      <td>0.839</td>\n",
              "      <td>133.194</td>\n",
              "      <td>259413</td>\n",
              "    </tr>\n",
              "  </tbody>\n",
              "</table>\n",
              "<p>11398 rows × 16 columns</p>\n",
              "</div>"
            ],
            "text/plain": [
              "       album_type  total_tracks  explicit  ...  valence    tempo  duration_ms\n",
              "0               1            16      True  ...    0.550  127.007       195873\n",
              "1               1            11     False  ...    0.474  102.166       184267\n",
              "2               1            10     False  ...    0.065  145.837       217867\n",
              "3               0             6     False  ...    0.470  119.903       155342\n",
              "4               0             6      True  ...    0.390  185.716       198213\n",
              "...           ...           ...       ...  ...      ...      ...          ...\n",
              "13277           1            12     False  ...    0.695  148.599       168000\n",
              "13278           1            12     False  ...    0.303  128.234       281067\n",
              "13280           1            11     False  ...    0.614  102.342       310333\n",
              "13281           1            13     False  ...    0.309  134.187       387573\n",
              "13282           2            47     False  ...    0.839  133.194       259413\n",
              "\n",
              "[11398 rows x 16 columns]"
            ]
          },
          "metadata": {},
          "execution_count": 6
        }
      ]
    },
    {
      "cell_type": "markdown",
      "metadata": {
        "id": "pnMRdG7lejLt"
      },
      "source": [
        "## Metrics & Split Data"
      ],
      "id": "pnMRdG7lejLt"
    },
    {
      "cell_type": "code",
      "metadata": {
        "id": "4ejZ-2le3wVa"
      },
      "source": [
        "# Credits: https://www.codegrepper.com/code-examples/python/scikit+learn+metrics+mape\n",
        "# Due to Python version in Google Colaboratory is 3.7, which is lower than 3.8 required for sklearn.metrics.mean_absolute_percentage_error,\n",
        "# this alternative code was used which gives the same result.\n",
        "def percentage_error(actual, predicted):\n",
        "    res = np.empty(actual.shape)\n",
        "    for j in range(actual.shape[0]):\n",
        "        if actual[j] != 0:\n",
        "            res[j] = (actual[j] - predicted[j]) / actual[j]\n",
        "        else:\n",
        "            res[j] = predicted[j] / np.mean(actual)\n",
        "    return res\n",
        "\n",
        "def mean_absolute_percentage_error(y_true, y_pred): \n",
        "    return np.mean(np.abs(percentage_error(np.asarray(y_true), np.asarray(y_pred))))\n",
        "\n",
        "def get_scores(y_train, y_test, train_pred, preds):\n",
        "    # R^2\n",
        "    test_r2 = r2_score(y_test, preds)\n",
        "    train_r2 = r2_score(y_train, train_pred)\n",
        "\n",
        "    # RMSE (Root Mean Squared Error)\n",
        "    test_rmse = np.sqrt(mean_squared_error(y_test, preds))\n",
        "    train_rmse = np.sqrt(mean_squared_error(y_train, train_pred))\n",
        "\n",
        "    # MAE (Mean Absolute Error)\n",
        "    test_mae = mean_absolute_error(y_test, preds)\n",
        "    train_mae = mean_absolute_error(y_train, train_pred)\n",
        "\n",
        "    # MAPE (Mean Absolute Percentage Error)\n",
        "    test_mape = mean_absolute_percentage_error(y_test, preds)\n",
        "    train_mape = mean_absolute_percentage_error(y_train, train_pred)\n",
        "\n",
        "    print(\"Train R^2: {}\".format(train_r2))\n",
        "    print(\"Test R^2: {}\".format(test_r2))\n",
        "    print(\"Train RMSE: {}\".format(train_rmse))\n",
        "    print(\"Test RMSE: {}\".format(test_rmse))\n",
        "    print(\"Train MAE: {}\".format(train_mae))\n",
        "    print(\"Test MAE: {}\".format(test_mae))\n",
        "    print(\"Train MAPE: {}\".format(train_mape))\n",
        "    print(\"Test MAPE: {}\".format(test_mape))\n",
        "\n",
        "    return"
      ],
      "id": "4ejZ-2le3wVa",
      "execution_count": null,
      "outputs": []
    },
    {
      "cell_type": "code",
      "metadata": {
        "colab": {
          "base_uri": "https://localhost:8080/"
        },
        "id": "EE94r__j1XkP",
        "outputId": "79957821-db91-4872-cce1-8adb966cff17"
      },
      "source": [
        "X, y = df.iloc[:,df.columns != 'popularity'],df.iloc[:,df.columns == 'popularity']\n",
        "\n",
        "X_train, X_test, y_train, y_test = train_test_split(X, y, test_size=0.2, random_state=3101)\n",
        "\n",
        "print(\"Size of training data = \" + str(X_train.shape[0]))\n",
        "print(\"Size of testing data = \" + str(X_test.shape[0]))"
      ],
      "id": "EE94r__j1XkP",
      "execution_count": null,
      "outputs": [
        {
          "output_type": "stream",
          "name": "stdout",
          "text": [
            "Size of training data = 9118\n",
            "Size of testing data = 2280\n"
          ]
        }
      ]
    },
    {
      "cell_type": "markdown",
      "metadata": {
        "id": "OLRvmeYN1YKt"
      },
      "source": [
        "## XGBRegressor"
      ],
      "id": "OLRvmeYN1YKt"
    },
    {
      "cell_type": "code",
      "metadata": {
        "id": "bwxWR_su1Xh9"
      },
      "source": [
        "xg_reg = xgb.XGBRegressor(objective ='reg:squarederror', \n",
        "                          seed = 3101)"
      ],
      "id": "bwxWR_su1Xh9",
      "execution_count": null,
      "outputs": []
    },
    {
      "cell_type": "code",
      "metadata": {
        "colab": {
          "base_uri": "https://localhost:8080/"
        },
        "id": "_mID0PC33wVV",
        "outputId": "f5acbd54-51fe-410a-9fb8-5fe22ef39d84"
      },
      "source": [
        "xg_reg.fit(X_train, y_train)"
      ],
      "id": "_mID0PC33wVV",
      "execution_count": null,
      "outputs": [
        {
          "output_type": "execute_result",
          "data": {
            "text/plain": [
              "XGBRegressor(base_score=0.5, booster='gbtree', colsample_bylevel=1,\n",
              "             colsample_bynode=1, colsample_bytree=1, gamma=0,\n",
              "             importance_type='gain', learning_rate=0.1, max_delta_step=0,\n",
              "             max_depth=3, min_child_weight=1, missing=None, n_estimators=100,\n",
              "             n_jobs=1, nthread=None, objective='reg:squarederror',\n",
              "             random_state=0, reg_alpha=0, reg_lambda=1, scale_pos_weight=1,\n",
              "             seed=3101, silent=None, subsample=1, verbosity=1)"
            ]
          },
          "metadata": {},
          "execution_count": 10
        }
      ]
    },
    {
      "cell_type": "code",
      "metadata": {
        "id": "tw7PJ8QD3wVY"
      },
      "source": [
        "preds = xg_reg.predict(X_test)\n",
        "train_pred = xg_reg.predict(X_train)"
      ],
      "id": "tw7PJ8QD3wVY",
      "execution_count": null,
      "outputs": []
    },
    {
      "cell_type": "code",
      "metadata": {
        "colab": {
          "base_uri": "https://localhost:8080/"
        },
        "id": "67cySKv_4tOx",
        "outputId": "2256b818-adc2-4f90-a881-ef1fc0a65d3e"
      },
      "source": [
        "get_scores(y_train, y_test, train_pred, preds)"
      ],
      "id": "67cySKv_4tOx",
      "execution_count": null,
      "outputs": [
        {
          "output_type": "stream",
          "name": "stdout",
          "text": [
            "Train R^2: 0.6892885464597607\n",
            "Test R^2: 0.6283451887318668\n",
            "Train RMSE: 15.68975595883515\n",
            "Test RMSE: 17.236100299974105\n",
            "Train MAE: 11.004591184342004\n",
            "Test MAE: 12.010191407381443\n",
            "Train MAPE: 1.2740032274017108\n",
            "Test MAPE: 1.4843137520700187\n"
          ]
        }
      ]
    },
    {
      "cell_type": "markdown",
      "metadata": {
        "id": "ZMYjXas4BGz5"
      },
      "source": [
        "## GridSearchCV + XGBRegressor\n",
        "\n"
      ],
      "id": "ZMYjXas4BGz5"
    },
    {
      "cell_type": "markdown",
      "metadata": {
        "id": "uxOBB4MUep-3"
      },
      "source": [
        "Warning: GridSearchCV would take around 20mins+ for complete execution"
      ],
      "id": "uxOBB4MUep-3"
    },
    {
      "cell_type": "code",
      "metadata": {
        "id": "4b9e61db"
      },
      "source": [
        "# params = { 'max_depth': [3,6,10],\n",
        "#            'learning_rate': [0.01, 0.05, 0.1],\n",
        "#            'n_estimators': [100, 500, 1000],\n",
        "#            'colsample_bytree': [0.3, 0.7]}\n",
        "\n",
        "# xgbr = xgb.XGBRegressor(seed = 3101)\n",
        "# clf = GridSearchCV(estimator=xgbr, \n",
        "#                    param_grid=params,\n",
        "#                    scoring='neg_mean_squared_error', \n",
        "#                    verbose=1)\n",
        "# clf.fit(X_train, y_train)"
      ],
      "id": "4b9e61db",
      "execution_count": null,
      "outputs": []
    },
    {
      "cell_type": "code",
      "metadata": {
        "id": "hCYFCx54Tt52"
      },
      "source": [
        "#print(\"Best parameters:\", clf.best_params_)"
      ],
      "id": "hCYFCx54Tt52",
      "execution_count": null,
      "outputs": []
    },
    {
      "cell_type": "code",
      "metadata": {
        "id": "P_SVmgUGBNxz"
      },
      "source": [
        "xg_reg_gridsearch = xgb.XGBRegressor(objective ='reg:squarederror', \n",
        "                                     colsample_bytree = 0.7, \n",
        "                                     learning_rate = 0.01,\n",
        "                                     max_depth = 10, \n",
        "                                     n_estimators = 1000, \n",
        "                                     seed = 3101)"
      ],
      "id": "P_SVmgUGBNxz",
      "execution_count": null,
      "outputs": []
    },
    {
      "cell_type": "code",
      "metadata": {
        "colab": {
          "base_uri": "https://localhost:8080/"
        },
        "id": "NhIaGF9pB-Vl",
        "outputId": "5f56a6cb-cb86-47dc-9b6d-4d1c6a6a974f"
      },
      "source": [
        "xg_reg_gridsearch.fit(X_train, y_train)"
      ],
      "id": "NhIaGF9pB-Vl",
      "execution_count": null,
      "outputs": [
        {
          "output_type": "execute_result",
          "data": {
            "text/plain": [
              "XGBRegressor(base_score=0.5, booster='gbtree', colsample_bylevel=1,\n",
              "             colsample_bynode=1, colsample_bytree=0.7, gamma=0,\n",
              "             importance_type='gain', learning_rate=0.01, max_delta_step=0,\n",
              "             max_depth=10, min_child_weight=1, missing=None, n_estimators=1000,\n",
              "             n_jobs=1, nthread=None, objective='reg:squarederror',\n",
              "             random_state=0, reg_alpha=0, reg_lambda=1, scale_pos_weight=1,\n",
              "             seed=3101, silent=None, subsample=1, verbosity=1)"
            ]
          },
          "metadata": {},
          "execution_count": 15
        }
      ]
    },
    {
      "cell_type": "code",
      "metadata": {
        "id": "vNWjZaupB-Vn"
      },
      "source": [
        "grid_preds = xg_reg_gridsearch.predict(X_test)\n",
        "grid_train_pred = xg_reg_gridsearch.predict(X_train)"
      ],
      "id": "vNWjZaupB-Vn",
      "execution_count": null,
      "outputs": []
    },
    {
      "cell_type": "code",
      "metadata": {
        "colab": {
          "base_uri": "https://localhost:8080/"
        },
        "id": "lW49ufyCB-Vo",
        "outputId": "04e6dfe7-4cb9-40f4-ed92-a60ee5c679ca"
      },
      "source": [
        "get_scores(y_train, y_test, grid_train_pred, grid_preds)"
      ],
      "id": "lW49ufyCB-Vo",
      "execution_count": null,
      "outputs": [
        {
          "output_type": "stream",
          "name": "stdout",
          "text": [
            "Train R^2: 0.9705054226871068\n",
            "Test R^2: 0.6808599006514439\n",
            "Train RMSE: 4.834022255760284\n",
            "Test RMSE: 15.972019102511943\n",
            "Train MAE: 3.206185429020131\n",
            "Test MAE: 10.724252219210591\n",
            "Train MAPE: 0.2623520310586808\n",
            "Test MAPE: 1.21076725815355\n"
          ]
        }
      ]
    },
    {
      "cell_type": "markdown",
      "metadata": {
        "id": "7OC2pwFX1VRW"
      },
      "source": [
        "## GridSearchCV + smoteR + XGBRegressor"
      ],
      "id": "7OC2pwFX1VRW"
    },
    {
      "cell_type": "code",
      "metadata": {
        "id": "ca1c9090"
      },
      "source": [
        "def sigmoid(x):\n",
        "    return 1 / (1 + np.exp(-x))\n",
        "\n",
        "def relevance(x):\n",
        "    x = np.array(x)\n",
        "    return sigmoid(x - 50)\n",
        "\n",
        "def get_synth_cases(D, target, o=200, k=3, categorical_col = []):\n",
        "    '''\n",
        "    Function to generate the new cases.\n",
        "    INPUT:\n",
        "        D - pd.DataFrame with the initial data\n",
        "        target - string name of the target column in the dataset\n",
        "        o - oversampling rate\n",
        "        k - number of nearest neighbors to use for the generation\n",
        "        categorical_col - list of categorical column names\n",
        "    OUTPUT:\n",
        "        new_cases - pd.DataFrame containing new generated cases\n",
        "    '''\n",
        "    np.random.seed(3101)\n",
        "    new_cases = pd.DataFrame(columns = D.columns) # initialize the list of new cases \n",
        "    ng = o // 100 # the number of new cases to generate\n",
        "    for index, case in D.iterrows():\n",
        "        # find k nearest neighbors of the case\n",
        "        knn = KNeighborsRegressor(n_neighbors = k+1) # k+1 because the case is the nearest neighbor to itself\n",
        "        knn.fit(D.drop(columns = [target]).values, D[[target]])\n",
        "        neighbors = knn.kneighbors(case.drop(labels = [target]).values.reshape(1, -1), return_distance=False).reshape(-1)\n",
        "        neighbors = np.delete(neighbors, np.where(neighbors == index))\n",
        "        for i in range(0, ng):\n",
        "            # randomly choose one of the neighbors\n",
        "            x = D.iloc[neighbors[np.random.randint(k)]]\n",
        "            attr = {}          \n",
        "            for a in D.columns:\n",
        "                # skip target column\n",
        "                if a == target:\n",
        "                    continue;\n",
        "                if a in categorical_col:\n",
        "                    # if categorical then choose randomly one of values\n",
        "                    if np.random.randint(2) == 0:\n",
        "                        attr[a] = case[a]\n",
        "                    else:\n",
        "                        attr[a] = x[a]\n",
        "                else:\n",
        "                    # if continious column\n",
        "                    diff = case[a] - x[a]\n",
        "                    attr[a] = case[a] + np.random.randint(2) * diff\n",
        "            # decide the target column\n",
        "            new = np.array(list(attr.values()))\n",
        "            d1 = cosine_similarity(new.reshape(1, -1), case.drop(labels = [target]).values.reshape(1, -1))[0][0]\n",
        "            d2 = cosine_similarity(new.reshape(1, -1), x.drop(labels = [target]).values.reshape(1, -1))[0][0]\n",
        "            attr[target] = (d2 * case[target] + d1 * x[target]) / (d1 + d2)\n",
        "            \n",
        "            # append the result\n",
        "            new_cases = new_cases.append(attr,ignore_index = True)\n",
        "                    \n",
        "    return new_cases\n",
        "\n",
        "def SmoteR(D, target, th = 0.999, o = 200, u = 100, k = 3, categorical_col = []):\n",
        "    '''\n",
        "    The implementation of SmoteR algorithm:\n",
        "    https://core.ac.uk/download/pdf/29202178.pdf\n",
        "    INPUT:\n",
        "        D - pd.DataFrame - the initial dataset\n",
        "        target - the name of the target column in the dataset\n",
        "        th - relevance threshold\n",
        "        o - oversampling rate\n",
        "        u - undersampling rate\n",
        "        k - the number of nearest neighbors\n",
        "    OUTPUT:\n",
        "        new_D - the resulting new dataset\n",
        "    '''\n",
        "    # median of the target variable\n",
        "    y_bar = D[target].median()\n",
        "    \n",
        "    # find rare cases where target less than median\n",
        "    rareL = D[(relevance(D[target]) > th) & (D[target] < y_bar)]  \n",
        "    # generate rare cases for rareL\n",
        "    new_casesL = get_synth_cases(rareL, target, o, k , categorical_col)\n",
        "    \n",
        "    # find rare cases where target greater than median\n",
        "    rareH = D[(relevance(D[target]) > th) & (D[target] > y_bar)]\n",
        "    # generate rare cases for rareH\n",
        "    new_casesH = get_synth_cases(rareH, target, o, k , categorical_col)\n",
        "    \n",
        "    new_cases = pd.concat([new_casesL, new_casesH], axis=0)\n",
        "    \n",
        "    # undersample norm cases\n",
        "    norm_cases = D[relevance(D[target]) <= th]\n",
        "    # get the number of norm cases\n",
        "    nr_norm = int(len(norm_cases) * u / 100)\n",
        "    \n",
        "    norm_cases = norm_cases.sample(min(len(D[relevance(D[target]) <= th]), nr_norm))\n",
        "    \n",
        "    # get the resulting dataset\n",
        "    new_D = pd.concat([new_cases, norm_cases], axis=0)\n",
        "    \n",
        "    return new_D"
      ],
      "id": "ca1c9090",
      "execution_count": null,
      "outputs": []
    },
    {
      "cell_type": "code",
      "metadata": {
        "colab": {
          "base_uri": "https://localhost:8080/"
        },
        "id": "Piha85leThAT",
        "outputId": "81609af6-2ebe-427a-f6ff-7b7a8b069e32"
      },
      "source": [
        "df"
      ],
      "id": "Piha85leThAT",
      "execution_count": null,
      "outputs": [
        {
          "output_type": "execute_result",
          "data": {
            "text/html": [
              "<div>\n",
              "<style scoped>\n",
              "    .dataframe tbody tr th:only-of-type {\n",
              "        vertical-align: middle;\n",
              "    }\n",
              "\n",
              "    .dataframe tbody tr th {\n",
              "        vertical-align: top;\n",
              "    }\n",
              "\n",
              "    .dataframe thead th {\n",
              "        text-align: right;\n",
              "    }\n",
              "</style>\n",
              "<table border=\"1\" class=\"dataframe\">\n",
              "  <thead>\n",
              "    <tr style=\"text-align: right;\">\n",
              "      <th></th>\n",
              "      <th>album_type</th>\n",
              "      <th>total_tracks</th>\n",
              "      <th>explicit</th>\n",
              "      <th>popularity</th>\n",
              "      <th>danceability</th>\n",
              "      <th>energy</th>\n",
              "      <th>key</th>\n",
              "      <th>loudness</th>\n",
              "      <th>mode</th>\n",
              "      <th>speechiness</th>\n",
              "      <th>acousticness</th>\n",
              "      <th>instrumentalness</th>\n",
              "      <th>liveness</th>\n",
              "      <th>valence</th>\n",
              "      <th>tempo</th>\n",
              "      <th>duration_ms</th>\n",
              "    </tr>\n",
              "  </thead>\n",
              "  <tbody>\n",
              "    <tr>\n",
              "      <th>0</th>\n",
              "      <td>1</td>\n",
              "      <td>16</td>\n",
              "      <td>True</td>\n",
              "      <td>80</td>\n",
              "      <td>0.794</td>\n",
              "      <td>0.766</td>\n",
              "      <td>9</td>\n",
              "      <td>-3.894</td>\n",
              "      <td>0</td>\n",
              "      <td>0.0377</td>\n",
              "      <td>0.01350</td>\n",
              "      <td>0.000000</td>\n",
              "      <td>0.0785</td>\n",
              "      <td>0.550</td>\n",
              "      <td>127.007</td>\n",
              "      <td>195873</td>\n",
              "    </tr>\n",
              "    <tr>\n",
              "      <th>1</th>\n",
              "      <td>1</td>\n",
              "      <td>11</td>\n",
              "      <td>False</td>\n",
              "      <td>43</td>\n",
              "      <td>0.626</td>\n",
              "      <td>0.457</td>\n",
              "      <td>4</td>\n",
              "      <td>-13.785</td>\n",
              "      <td>1</td>\n",
              "      <td>0.0384</td>\n",
              "      <td>0.35500</td>\n",
              "      <td>0.000009</td>\n",
              "      <td>0.0668</td>\n",
              "      <td>0.474</td>\n",
              "      <td>102.166</td>\n",
              "      <td>184267</td>\n",
              "    </tr>\n",
              "    <tr>\n",
              "      <th>2</th>\n",
              "      <td>1</td>\n",
              "      <td>10</td>\n",
              "      <td>False</td>\n",
              "      <td>82</td>\n",
              "      <td>0.523</td>\n",
              "      <td>0.606</td>\n",
              "      <td>1</td>\n",
              "      <td>-4.754</td>\n",
              "      <td>0</td>\n",
              "      <td>0.0301</td>\n",
              "      <td>0.51200</td>\n",
              "      <td>0.000000</td>\n",
              "      <td>0.1060</td>\n",
              "      <td>0.065</td>\n",
              "      <td>145.837</td>\n",
              "      <td>217867</td>\n",
              "    </tr>\n",
              "    <tr>\n",
              "      <th>3</th>\n",
              "      <td>0</td>\n",
              "      <td>6</td>\n",
              "      <td>False</td>\n",
              "      <td>42</td>\n",
              "      <td>0.417</td>\n",
              "      <td>0.443</td>\n",
              "      <td>5</td>\n",
              "      <td>-6.261</td>\n",
              "      <td>1</td>\n",
              "      <td>0.0328</td>\n",
              "      <td>0.70900</td>\n",
              "      <td>0.000000</td>\n",
              "      <td>0.2170</td>\n",
              "      <td>0.470</td>\n",
              "      <td>119.903</td>\n",
              "      <td>155342</td>\n",
              "    </tr>\n",
              "    <tr>\n",
              "      <th>4</th>\n",
              "      <td>0</td>\n",
              "      <td>6</td>\n",
              "      <td>True</td>\n",
              "      <td>81</td>\n",
              "      <td>0.247</td>\n",
              "      <td>0.438</td>\n",
              "      <td>5</td>\n",
              "      <td>-8.479</td>\n",
              "      <td>1</td>\n",
              "      <td>0.0358</td>\n",
              "      <td>0.04550</td>\n",
              "      <td>0.000871</td>\n",
              "      <td>0.1110</td>\n",
              "      <td>0.390</td>\n",
              "      <td>185.716</td>\n",
              "      <td>198213</td>\n",
              "    </tr>\n",
              "    <tr>\n",
              "      <th>...</th>\n",
              "      <td>...</td>\n",
              "      <td>...</td>\n",
              "      <td>...</td>\n",
              "      <td>...</td>\n",
              "      <td>...</td>\n",
              "      <td>...</td>\n",
              "      <td>...</td>\n",
              "      <td>...</td>\n",
              "      <td>...</td>\n",
              "      <td>...</td>\n",
              "      <td>...</td>\n",
              "      <td>...</td>\n",
              "      <td>...</td>\n",
              "      <td>...</td>\n",
              "      <td>...</td>\n",
              "      <td>...</td>\n",
              "    </tr>\n",
              "    <tr>\n",
              "      <th>13277</th>\n",
              "      <td>1</td>\n",
              "      <td>12</td>\n",
              "      <td>False</td>\n",
              "      <td>1</td>\n",
              "      <td>0.439</td>\n",
              "      <td>0.891</td>\n",
              "      <td>0</td>\n",
              "      <td>-4.764</td>\n",
              "      <td>1</td>\n",
              "      <td>0.0570</td>\n",
              "      <td>0.01220</td>\n",
              "      <td>0.000000</td>\n",
              "      <td>0.5470</td>\n",
              "      <td>0.695</td>\n",
              "      <td>148.599</td>\n",
              "      <td>168000</td>\n",
              "    </tr>\n",
              "    <tr>\n",
              "      <th>13278</th>\n",
              "      <td>1</td>\n",
              "      <td>12</td>\n",
              "      <td>False</td>\n",
              "      <td>66</td>\n",
              "      <td>0.568</td>\n",
              "      <td>0.495</td>\n",
              "      <td>1</td>\n",
              "      <td>-8.964</td>\n",
              "      <td>1</td>\n",
              "      <td>0.0299</td>\n",
              "      <td>0.35300</td>\n",
              "      <td>0.000000</td>\n",
              "      <td>0.0839</td>\n",
              "      <td>0.303</td>\n",
              "      <td>128.234</td>\n",
              "      <td>281067</td>\n",
              "    </tr>\n",
              "    <tr>\n",
              "      <th>13280</th>\n",
              "      <td>1</td>\n",
              "      <td>11</td>\n",
              "      <td>False</td>\n",
              "      <td>40</td>\n",
              "      <td>0.664</td>\n",
              "      <td>0.622</td>\n",
              "      <td>10</td>\n",
              "      <td>-8.505</td>\n",
              "      <td>1</td>\n",
              "      <td>0.0253</td>\n",
              "      <td>0.09940</td>\n",
              "      <td>0.073800</td>\n",
              "      <td>0.1120</td>\n",
              "      <td>0.614</td>\n",
              "      <td>102.342</td>\n",
              "      <td>310333</td>\n",
              "    </tr>\n",
              "    <tr>\n",
              "      <th>13281</th>\n",
              "      <td>1</td>\n",
              "      <td>13</td>\n",
              "      <td>False</td>\n",
              "      <td>60</td>\n",
              "      <td>0.738</td>\n",
              "      <td>0.541</td>\n",
              "      <td>1</td>\n",
              "      <td>-5.485</td>\n",
              "      <td>1</td>\n",
              "      <td>0.0311</td>\n",
              "      <td>0.55900</td>\n",
              "      <td>0.000000</td>\n",
              "      <td>0.0492</td>\n",
              "      <td>0.309</td>\n",
              "      <td>134.187</td>\n",
              "      <td>387573</td>\n",
              "    </tr>\n",
              "    <tr>\n",
              "      <th>13282</th>\n",
              "      <td>2</td>\n",
              "      <td>47</td>\n",
              "      <td>False</td>\n",
              "      <td>58</td>\n",
              "      <td>0.569</td>\n",
              "      <td>0.901</td>\n",
              "      <td>9</td>\n",
              "      <td>-5.197</td>\n",
              "      <td>1</td>\n",
              "      <td>0.0544</td>\n",
              "      <td>0.00555</td>\n",
              "      <td>0.260000</td>\n",
              "      <td>0.1600</td>\n",
              "      <td>0.839</td>\n",
              "      <td>133.194</td>\n",
              "      <td>259413</td>\n",
              "    </tr>\n",
              "  </tbody>\n",
              "</table>\n",
              "<p>11398 rows × 16 columns</p>\n",
              "</div>"
            ],
            "text/plain": [
              "       album_type  total_tracks  explicit  ...  valence    tempo  duration_ms\n",
              "0               1            16      True  ...    0.550  127.007       195873\n",
              "1               1            11     False  ...    0.474  102.166       184267\n",
              "2               1            10     False  ...    0.065  145.837       217867\n",
              "3               0             6     False  ...    0.470  119.903       155342\n",
              "4               0             6      True  ...    0.390  185.716       198213\n",
              "...           ...           ...       ...  ...      ...      ...          ...\n",
              "13277           1            12     False  ...    0.695  148.599       168000\n",
              "13278           1            12     False  ...    0.303  128.234       281067\n",
              "13280           1            11     False  ...    0.614  102.342       310333\n",
              "13281           1            13     False  ...    0.309  134.187       387573\n",
              "13282           2            47     False  ...    0.839  133.194       259413\n",
              "\n",
              "[11398 rows x 16 columns]"
            ]
          },
          "metadata": {},
          "execution_count": 19
        }
      ]
    },
    {
      "cell_type": "code",
      "metadata": {
        "id": "970b0c9e"
      },
      "source": [
        "Xs = SmoteR(df, target='popularity', th = 0.999, o = 300, u = 100, k = 10, \n",
        "            categorical_col = ['explicit','key', 'mode', 'album_type'])"
      ],
      "id": "970b0c9e",
      "execution_count": null,
      "outputs": []
    },
    {
      "cell_type": "code",
      "metadata": {
        "colab": {
          "base_uri": "https://localhost:8080/"
        },
        "id": "10bd6ac3",
        "outputId": "7f2809d4-494b-463d-d9da-ee6d5ea50128"
      },
      "source": [
        "Xs"
      ],
      "id": "10bd6ac3",
      "execution_count": null,
      "outputs": [
        {
          "output_type": "execute_result",
          "data": {
            "text/html": [
              "<div>\n",
              "<style scoped>\n",
              "    .dataframe tbody tr th:only-of-type {\n",
              "        vertical-align: middle;\n",
              "    }\n",
              "\n",
              "    .dataframe tbody tr th {\n",
              "        vertical-align: top;\n",
              "    }\n",
              "\n",
              "    .dataframe thead th {\n",
              "        text-align: right;\n",
              "    }\n",
              "</style>\n",
              "<table border=\"1\" class=\"dataframe\">\n",
              "  <thead>\n",
              "    <tr style=\"text-align: right;\">\n",
              "      <th></th>\n",
              "      <th>album_type</th>\n",
              "      <th>total_tracks</th>\n",
              "      <th>explicit</th>\n",
              "      <th>popularity</th>\n",
              "      <th>danceability</th>\n",
              "      <th>energy</th>\n",
              "      <th>key</th>\n",
              "      <th>loudness</th>\n",
              "      <th>mode</th>\n",
              "      <th>speechiness</th>\n",
              "      <th>acousticness</th>\n",
              "      <th>instrumentalness</th>\n",
              "      <th>liveness</th>\n",
              "      <th>valence</th>\n",
              "      <th>tempo</th>\n",
              "      <th>duration_ms</th>\n",
              "    </tr>\n",
              "  </thead>\n",
              "  <tbody>\n",
              "    <tr>\n",
              "      <th>0</th>\n",
              "      <td>1</td>\n",
              "      <td>8</td>\n",
              "      <td>True</td>\n",
              "      <td>57.5</td>\n",
              "      <td>0.168</td>\n",
              "      <td>0.3260</td>\n",
              "      <td>11</td>\n",
              "      <td>-12.717</td>\n",
              "      <td>1</td>\n",
              "      <td>0.0417</td>\n",
              "      <td>0.074000</td>\n",
              "      <td>0.000010</td>\n",
              "      <td>-0.6882</td>\n",
              "      <td>0.3210</td>\n",
              "      <td>214.069</td>\n",
              "      <td>283753</td>\n",
              "    </tr>\n",
              "    <tr>\n",
              "      <th>1</th>\n",
              "      <td>1</td>\n",
              "      <td>11</td>\n",
              "      <td>False</td>\n",
              "      <td>57.0</td>\n",
              "      <td>0.460</td>\n",
              "      <td>-0.2790</td>\n",
              "      <td>1</td>\n",
              "      <td>-10.699</td>\n",
              "      <td>1</td>\n",
              "      <td>0.0417</td>\n",
              "      <td>0.270900</td>\n",
              "      <td>-0.824980</td>\n",
              "      <td>0.0449</td>\n",
              "      <td>0.0940</td>\n",
              "      <td>152.531</td>\n",
              "      <td>283753</td>\n",
              "    </tr>\n",
              "    <tr>\n",
              "      <th>2</th>\n",
              "      <td>1</td>\n",
              "      <td>11</td>\n",
              "      <td>False</td>\n",
              "      <td>57.5</td>\n",
              "      <td>0.460</td>\n",
              "      <td>0.1320</td>\n",
              "      <td>7</td>\n",
              "      <td>-13.321</td>\n",
              "      <td>1</td>\n",
              "      <td>0.0417</td>\n",
              "      <td>0.142000</td>\n",
              "      <td>0.000020</td>\n",
              "      <td>0.0449</td>\n",
              "      <td>0.3210</td>\n",
              "      <td>227.594</td>\n",
              "      <td>283753</td>\n",
              "    </tr>\n",
              "    <tr>\n",
              "      <th>3</th>\n",
              "      <td>1</td>\n",
              "      <td>13</td>\n",
              "      <td>False</td>\n",
              "      <td>58.0</td>\n",
              "      <td>0.473</td>\n",
              "      <td>0.4440</td>\n",
              "      <td>0</td>\n",
              "      <td>-10.962</td>\n",
              "      <td>1</td>\n",
              "      <td>0.0294</td>\n",
              "      <td>0.670000</td>\n",
              "      <td>0.000000</td>\n",
              "      <td>0.1490</td>\n",
              "      <td>0.7200</td>\n",
              "      <td>170.035</td>\n",
              "      <td>234400</td>\n",
              "    </tr>\n",
              "    <tr>\n",
              "      <th>4</th>\n",
              "      <td>1</td>\n",
              "      <td>11</td>\n",
              "      <td>True</td>\n",
              "      <td>57.5</td>\n",
              "      <td>0.473</td>\n",
              "      <td>0.1480</td>\n",
              "      <td>6</td>\n",
              "      <td>-9.065</td>\n",
              "      <td>1</td>\n",
              "      <td>0.0144</td>\n",
              "      <td>0.670000</td>\n",
              "      <td>-0.000080</td>\n",
              "      <td>0.1490</td>\n",
              "      <td>0.4580</td>\n",
              "      <td>170.035</td>\n",
              "      <td>235653</td>\n",
              "    </tr>\n",
              "    <tr>\n",
              "      <th>...</th>\n",
              "      <td>...</td>\n",
              "      <td>...</td>\n",
              "      <td>...</td>\n",
              "      <td>...</td>\n",
              "      <td>...</td>\n",
              "      <td>...</td>\n",
              "      <td>...</td>\n",
              "      <td>...</td>\n",
              "      <td>...</td>\n",
              "      <td>...</td>\n",
              "      <td>...</td>\n",
              "      <td>...</td>\n",
              "      <td>...</td>\n",
              "      <td>...</td>\n",
              "      <td>...</td>\n",
              "      <td>...</td>\n",
              "    </tr>\n",
              "    <tr>\n",
              "      <th>6105</th>\n",
              "      <td>1</td>\n",
              "      <td>23</td>\n",
              "      <td>True</td>\n",
              "      <td>22.0</td>\n",
              "      <td>0.480</td>\n",
              "      <td>0.8100</td>\n",
              "      <td>5</td>\n",
              "      <td>-6.580</td>\n",
              "      <td>1</td>\n",
              "      <td>0.2720</td>\n",
              "      <td>0.039300</td>\n",
              "      <td>0.000000</td>\n",
              "      <td>0.4310</td>\n",
              "      <td>0.3960</td>\n",
              "      <td>94.691</td>\n",
              "      <td>346107</td>\n",
              "    </tr>\n",
              "    <tr>\n",
              "      <th>8276</th>\n",
              "      <td>1</td>\n",
              "      <td>35</td>\n",
              "      <td>False</td>\n",
              "      <td>12.0</td>\n",
              "      <td>0.553</td>\n",
              "      <td>0.8400</td>\n",
              "      <td>7</td>\n",
              "      <td>-2.345</td>\n",
              "      <td>1</td>\n",
              "      <td>0.1020</td>\n",
              "      <td>0.000502</td>\n",
              "      <td>0.001450</td>\n",
              "      <td>0.0300</td>\n",
              "      <td>0.0623</td>\n",
              "      <td>169.975</td>\n",
              "      <td>314868</td>\n",
              "    </tr>\n",
              "    <tr>\n",
              "      <th>8551</th>\n",
              "      <td>0</td>\n",
              "      <td>6</td>\n",
              "      <td>False</td>\n",
              "      <td>6.0</td>\n",
              "      <td>0.546</td>\n",
              "      <td>0.4410</td>\n",
              "      <td>2</td>\n",
              "      <td>-6.332</td>\n",
              "      <td>1</td>\n",
              "      <td>0.0251</td>\n",
              "      <td>0.514000</td>\n",
              "      <td>0.000006</td>\n",
              "      <td>0.1280</td>\n",
              "      <td>0.3350</td>\n",
              "      <td>134.917</td>\n",
              "      <td>185946</td>\n",
              "    </tr>\n",
              "    <tr>\n",
              "      <th>11715</th>\n",
              "      <td>1</td>\n",
              "      <td>13</td>\n",
              "      <td>False</td>\n",
              "      <td>5.0</td>\n",
              "      <td>0.543</td>\n",
              "      <td>0.9850</td>\n",
              "      <td>4</td>\n",
              "      <td>-2.684</td>\n",
              "      <td>0</td>\n",
              "      <td>0.1240</td>\n",
              "      <td>0.010400</td>\n",
              "      <td>0.000000</td>\n",
              "      <td>0.7610</td>\n",
              "      <td>0.5100</td>\n",
              "      <td>115.084</td>\n",
              "      <td>139732</td>\n",
              "    </tr>\n",
              "    <tr>\n",
              "      <th>11137</th>\n",
              "      <td>1</td>\n",
              "      <td>15</td>\n",
              "      <td>False</td>\n",
              "      <td>4.0</td>\n",
              "      <td>0.484</td>\n",
              "      <td>0.0754</td>\n",
              "      <td>4</td>\n",
              "      <td>-25.299</td>\n",
              "      <td>0</td>\n",
              "      <td>0.0309</td>\n",
              "      <td>0.953000</td>\n",
              "      <td>0.974000</td>\n",
              "      <td>0.1190</td>\n",
              "      <td>0.4060</td>\n",
              "      <td>77.982</td>\n",
              "      <td>173215</td>\n",
              "    </tr>\n",
              "  </tbody>\n",
              "</table>\n",
              "<p>23237 rows × 16 columns</p>\n",
              "</div>"
            ],
            "text/plain": [
              "      album_type total_tracks explicit  ...  valence    tempo  duration_ms\n",
              "0              1            8     True  ...   0.3210  214.069       283753\n",
              "1              1           11    False  ...   0.0940  152.531       283753\n",
              "2              1           11    False  ...   0.3210  227.594       283753\n",
              "3              1           13    False  ...   0.7200  170.035       234400\n",
              "4              1           11     True  ...   0.4580  170.035       235653\n",
              "...          ...          ...      ...  ...      ...      ...          ...\n",
              "6105           1           23     True  ...   0.3960   94.691       346107\n",
              "8276           1           35    False  ...   0.0623  169.975       314868\n",
              "8551           0            6    False  ...   0.3350  134.917       185946\n",
              "11715          1           13    False  ...   0.5100  115.084       139732\n",
              "11137          1           15    False  ...   0.4060   77.982       173215\n",
              "\n",
              "[23237 rows x 16 columns]"
            ]
          },
          "metadata": {},
          "execution_count": 21
        }
      ]
    },
    {
      "cell_type": "code",
      "metadata": {
        "colab": {
          "base_uri": "https://localhost:8080/"
        },
        "id": "H1LchHG1bJe6",
        "outputId": "aa670890-f292-4e24-fa53-5497f9a7fac4"
      },
      "source": [
        "Xs.info()"
      ],
      "id": "H1LchHG1bJe6",
      "execution_count": null,
      "outputs": [
        {
          "output_type": "stream",
          "name": "stdout",
          "text": [
            "<class 'pandas.core.frame.DataFrame'>\n",
            "Int64Index: 23237 entries, 0 to 11137\n",
            "Data columns (total 16 columns):\n",
            " #   Column            Non-Null Count  Dtype  \n",
            "---  ------            --------------  -----  \n",
            " 0   album_type        23237 non-null  object \n",
            " 1   total_tracks      23237 non-null  object \n",
            " 2   explicit          23237 non-null  object \n",
            " 3   popularity        23237 non-null  float64\n",
            " 4   danceability      23237 non-null  float64\n",
            " 5   energy            23237 non-null  float64\n",
            " 6   key               23237 non-null  object \n",
            " 7   loudness          23237 non-null  float64\n",
            " 8   mode              23237 non-null  object \n",
            " 9   speechiness       23237 non-null  float64\n",
            " 10  acousticness      23237 non-null  float64\n",
            " 11  instrumentalness  23237 non-null  float64\n",
            " 12  liveness          23237 non-null  float64\n",
            " 13  valence           23237 non-null  float64\n",
            " 14  tempo             23237 non-null  float64\n",
            " 15  duration_ms       23237 non-null  object \n",
            "dtypes: float64(10), object(6)\n",
            "memory usage: 3.0+ MB\n"
          ]
        }
      ]
    },
    {
      "cell_type": "code",
      "metadata": {
        "id": "4f915164"
      },
      "source": [
        "Xs2 = Xs.astype({'album_type': 'int64',\n",
        "                 'total_tracks': 'int64', \n",
        "                 'explicit': 'bool', \n",
        "                 'key': 'int64', \n",
        "                 'mode': 'int64', \n",
        "                 'duration_ms': 'int64'})"
      ],
      "id": "4f915164",
      "execution_count": null,
      "outputs": []
    },
    {
      "cell_type": "code",
      "metadata": {
        "colab": {
          "base_uri": "https://localhost:8080/"
        },
        "id": "f0a244ed",
        "outputId": "e59e4f88-787f-4a43-829e-348ea10e0aa1"
      },
      "source": [
        "X, y = Xs2.iloc[:,Xs2.columns != 'popularity'],Xs2.iloc[:,Xs2.columns == 'popularity']\n",
        "\n",
        "X_train, X_test, y_train, y_test = train_test_split(X, y, test_size=0.2, random_state=3101)\n",
        "\n",
        "print(\"Size of training data = \" + str(X_train.shape[0]))\n",
        "print(\"Size of testing data = \" + str(X_test.shape[0]))"
      ],
      "id": "f0a244ed",
      "execution_count": null,
      "outputs": [
        {
          "output_type": "stream",
          "name": "stdout",
          "text": [
            "Size of training data = 18589\n",
            "Size of testing data = 4648\n"
          ]
        }
      ]
    },
    {
      "cell_type": "code",
      "metadata": {
        "id": "96e91a6c"
      },
      "source": [
        "xg_reg = xgb.XGBRegressor(objective ='reg:squarederror', \n",
        "                          colsample_bytree = 0.7, \n",
        "                          learning_rate = 0.01,\n",
        "                          max_depth = 10, \n",
        "                          n_estimators = 1000, \n",
        "                          seed = 3101)"
      ],
      "id": "96e91a6c",
      "execution_count": null,
      "outputs": []
    },
    {
      "cell_type": "code",
      "metadata": {
        "id": "2cfc8bc8"
      },
      "source": [
        "# For CV\n",
        "#D_train = xgb.DMatrix(X_train, label=y_train)\n",
        "#D_test = xgb.DMatrix(X_test, label=y_test)"
      ],
      "id": "2cfc8bc8",
      "execution_count": null,
      "outputs": []
    },
    {
      "cell_type": "code",
      "metadata": {
        "colab": {
          "base_uri": "https://localhost:8080/"
        },
        "id": "a2553c87",
        "outputId": "11f984b5-2174-466f-d1fd-e7b3a7076579"
      },
      "source": [
        "xg_reg.fit(X_train, y_train)"
      ],
      "id": "a2553c87",
      "execution_count": null,
      "outputs": [
        {
          "output_type": "execute_result",
          "data": {
            "text/plain": [
              "XGBRegressor(base_score=0.5, booster='gbtree', colsample_bylevel=1,\n",
              "             colsample_bynode=1, colsample_bytree=0.7, gamma=0,\n",
              "             importance_type='gain', learning_rate=0.01, max_delta_step=0,\n",
              "             max_depth=10, min_child_weight=1, missing=None, n_estimators=1000,\n",
              "             n_jobs=1, nthread=None, objective='reg:squarederror',\n",
              "             random_state=0, reg_alpha=0, reg_lambda=1, scale_pos_weight=1,\n",
              "             seed=3101, silent=None, subsample=1, verbosity=1)"
            ]
          },
          "metadata": {},
          "execution_count": 27
        }
      ]
    },
    {
      "cell_type": "code",
      "metadata": {
        "id": "c5256be3"
      },
      "source": [
        "preds = xg_reg.predict(X_test)\n",
        "train_pred = xg_reg.predict(X_train)"
      ],
      "id": "c5256be3",
      "execution_count": null,
      "outputs": []
    },
    {
      "cell_type": "code",
      "metadata": {
        "colab": {
          "base_uri": "https://localhost:8080/"
        },
        "id": "KSZbn-41pqdp",
        "outputId": "0ff9ee8e-fcc9-46ad-968c-e0eef744431a"
      },
      "source": [
        "get_scores(y_train, y_test, train_pred, preds)"
      ],
      "id": "KSZbn-41pqdp",
      "execution_count": null,
      "outputs": [
        {
          "output_type": "stream",
          "name": "stdout",
          "text": [
            "Train R^2: 0.9234382723547739\n",
            "Test R^2: 0.7530993869053639\n",
            "Train RMSE: 6.421624482391482\n",
            "Test RMSE: 11.448581229206798\n",
            "Train MAE: 3.9201253370214943\n",
            "Test MAE: 7.248920625254209\n",
            "Train MAPE: 0.31631820708387265\n",
            "Test MAPE: 0.6487334653405151\n"
          ]
        }
      ]
    },
    {
      "cell_type": "markdown",
      "metadata": {
        "id": "gdAvKTvA3NUO"
      },
      "source": [
        "## Pruning through Feature Importance"
      ],
      "id": "gdAvKTvA3NUO"
    },
    {
      "cell_type": "code",
      "metadata": {
        "colab": {
          "base_uri": "https://localhost:8080/",
          "height": 295
        },
        "id": "907fbbce",
        "outputId": "b15c848a-7ec6-4fd2-cea3-99aaaded24b0"
      },
      "source": [
        "# plot_importance default matric is \"Weight\"\n",
        "# xgb.plot_importance(xg_reg)\n",
        "# plt.rcParams['figure.figsize'] = [15, 10]\n",
        "# plt.show()\n",
        "\n",
        "## However, xg_reg.feature_importances_ is calculated using Gain\n",
        "xgb.plot_importance(xg_reg, importance_type = \"gain\")\n",
        "plt.rcParams['figure.figsize'] = [15, 10]\n",
        "plt.show()\n",
        "\n",
        "## The importance type of our model is also Gain\n",
        "# xg_reg.importance_type\n",
        "\n",
        "## Reading the documentation for feature_importances reveals that it is calculated using model's importance type \n",
        "## and divided by the total sum of these values\n",
        "# ??xg_reg.feature_importances_\n",
        "\n",
        "\n",
        "# References\n",
        "## https://towardsdatascience.com/be-careful-when-interpreting-your-features-importance-in-xgboost-6e16132588e7\n",
        "## Pruning through feature importance: https://machinelearningmastery.com/feature-importance-and-feature-selection-with-xgboost-in-python/"
      ],
      "id": "907fbbce",
      "execution_count": null,
      "outputs": [
        {
          "output_type": "display_data",
          "data": {
            "image/png": "[encoded data removed]",
            "text/plain": [
              "<Figure size 432x288 with 1 Axes>"
            ]
          },
          "metadata": {
            "needs_background": "light"
          }
        }
      ]
    },
    {
      "cell_type": "code",
      "metadata": {
        "id": "2fba9767"
      },
      "source": [
        "tuning_performance = []\n",
        "def tune_tree(model, X_train, X_test, y_train, y_test):\n",
        "    # Obtain thresholds\n",
        "    main_dict = model.get_booster().get_score(importance_type= \"gain\")\n",
        "    total = sum([v for v in main_dict.values()])\n",
        "    values = [(k,v) for k,v in main_dict.items()]\n",
        "    thresholds = list(map(lambda x: (x[0], x[1]/total), values))\n",
        "    thresholds.sort(key=lambda x: x[1])\n",
        "    \n",
        "    # Remove least important variable\n",
        "    var, thresh = thresholds[0]\n",
        "    select_X_train = X_train.drop(columns=[var])\n",
        "    select_X_test = X_test.drop(columns=[var])\n",
        "\n",
        "    # Refit model\n",
        "    selection_model = xgb.XGBRegressor(objective ='reg:squarederror', \n",
        "                      colsample_bytree = 0.7, \n",
        "                      learning_rate = 0.01,\n",
        "                      max_depth = 10, \n",
        "                      n_estimators = 1000, \n",
        "                      seed = 3101)\n",
        "    \n",
        "    selection_model.fit(select_X_train, y_train)\n",
        "    y_pred = selection_model.predict(select_X_test)\n",
        "    train_pred = selection_model.predict(select_X_train)\n",
        "\n",
        "    # Evaluate refitted model\n",
        "    test_rmse = np.sqrt(mean_squared_error(y_test, y_pred))\n",
        "    train_rmse = np.sqrt(mean_squared_error(y_train, train_pred))\n",
        "\n",
        "    # Print & Save results\n",
        "    variables = sorted(list(map(lambda x: x[0], thresholds[1:])))\n",
        "    print(\"Variables: {}\".format(\"+\".join(variables)))\n",
        "    print(\"Number of Variables: {}\".format(len(thresholds[1:])))\n",
        "    print(train_rmse)\n",
        "    print(test_rmse)\n",
        "    print(\"-------------------------------------------------------\")\n",
        "\n",
        "    tuning_performance.append([len(variables), \"+\".join(variables), train_rmse, test_rmse])\n",
        "    \n",
        "    if len(thresholds[1:]) <= 2:\n",
        "        return\n",
        "    else:\n",
        "        tune_tree(selection_model, select_X_train, select_X_test, y_train, y_test)"
      ],
      "id": "2fba9767",
      "execution_count": null,
      "outputs": []
    },
    {
      "cell_type": "code",
      "metadata": {
        "colab": {
          "base_uri": "https://localhost:8080/"
        },
        "id": "99c76b3b",
        "outputId": "329e2943-ff70-4bfa-c4a4-cd414bfdbb82"
      },
      "source": [
        "tune_tree(xg_reg, X_train, X_test, y_train, y_test)"
      ],
      "id": "99c76b3b",
      "execution_count": null,
      "outputs": [
        {
          "output_type": "stream",
          "name": "stdout",
          "text": [
            "Variables: acousticness+album_type+danceability+duration_ms+energy+explicit+instrumentalness+liveness+loudness+mode+speechiness+tempo+total_tracks+valence\n",
            "Number of Variables: 14\n",
            "6.797955766869808\n",
            "11.45617730626544\n",
            "-------------------------------------------------------\n",
            "Variables: acousticness+album_type+danceability+duration_ms+energy+explicit+instrumentalness+liveness+loudness+speechiness+tempo+total_tracks+valence\n",
            "Number of Variables: 13\n",
            "6.771020048659268\n",
            "11.457800413418754\n",
            "-------------------------------------------------------\n",
            "Variables: acousticness+album_type+duration_ms+energy+explicit+instrumentalness+liveness+loudness+speechiness+tempo+total_tracks+valence\n",
            "Number of Variables: 12\n",
            "6.859526665260539\n",
            "11.579147751164928\n",
            "-------------------------------------------------------\n",
            "Variables: acousticness+album_type+duration_ms+explicit+instrumentalness+liveness+loudness+speechiness+tempo+total_tracks+valence\n",
            "Number of Variables: 11\n",
            "7.336419271203404\n",
            "11.740426157962924\n",
            "-------------------------------------------------------\n",
            "Variables: acousticness+album_type+duration_ms+explicit+instrumentalness+liveness+speechiness+tempo+total_tracks+valence\n",
            "Number of Variables: 10\n",
            "7.349598565881929\n",
            "11.917019933116064\n",
            "-------------------------------------------------------\n",
            "Variables: acousticness+album_type+duration_ms+explicit+instrumentalness+liveness+tempo+total_tracks+valence\n",
            "Number of Variables: 9\n",
            "7.8467238387827685\n",
            "12.111249462176795\n",
            "-------------------------------------------------------\n",
            "Variables: acousticness+album_type+duration_ms+explicit+instrumentalness+liveness+tempo+total_tracks\n",
            "Number of Variables: 8\n",
            "8.320274546166821\n",
            "12.314741275184796\n",
            "-------------------------------------------------------\n",
            "Variables: acousticness+album_type+duration_ms+explicit+instrumentalness+liveness+total_tracks\n",
            "Number of Variables: 7\n",
            "8.736402461310712\n",
            "12.549418935640183\n",
            "-------------------------------------------------------\n",
            "Variables: album_type+duration_ms+explicit+instrumentalness+liveness+total_tracks\n",
            "Number of Variables: 6\n",
            "9.384686386043667\n",
            "12.999412208523365\n",
            "-------------------------------------------------------\n",
            "Variables: album_type+duration_ms+explicit+instrumentalness+total_tracks\n",
            "Number of Variables: 5\n",
            "10.286031275791034\n",
            "13.377375365836754\n",
            "-------------------------------------------------------\n",
            "Variables: album_type+explicit+instrumentalness+total_tracks\n",
            "Number of Variables: 4\n",
            "12.774493208354244\n",
            "14.08660644963385\n",
            "-------------------------------------------------------\n",
            "Variables: album_type+explicit+total_tracks\n",
            "Number of Variables: 3\n",
            "15.548792079826677\n",
            "15.706140227811792\n",
            "-------------------------------------------------------\n",
            "Variables: album_type+explicit\n",
            "Number of Variables: 2\n",
            "18.35686519731075\n",
            "18.299615644359083\n",
            "-------------------------------------------------------\n"
          ]
        }
      ]
    },
    {
      "cell_type": "code",
      "metadata": {
        "colab": {
          "base_uri": "https://localhost:8080/",
          "height": 489
        },
        "id": "v1uN-7e5h6xM",
        "outputId": "1bc065f4-4931-4fb9-821f-b9747d52e716"
      },
      "source": [
        "# Performance of pruned models\n",
        "\n",
        "## Add back in last Best Model (with no pruning)\n",
        "tuning_performance.insert(0, [len(X_train.columns), \"+\".join(sorted(list(X_train.columns))), 6.421624482391482, 11.448581229206798])\n",
        "pf = pd.DataFrame(tuning_performance)\n",
        "pf.columns = [\"id\", \"variables\", \"train_rmse\", \"test_rmse\"]\n",
        "pf"
      ],
      "id": "v1uN-7e5h6xM",
      "execution_count": null,
      "outputs": [
        {
          "output_type": "execute_result",
          "data": {
            "text/html": [
              "<div>\n",
              "<style scoped>\n",
              "    .dataframe tbody tr th:only-of-type {\n",
              "        vertical-align: middle;\n",
              "    }\n",
              "\n",
              "    .dataframe tbody tr th {\n",
              "        vertical-align: top;\n",
              "    }\n",
              "\n",
              "    .dataframe thead th {\n",
              "        text-align: right;\n",
              "    }\n",
              "</style>\n",
              "<table border=\"1\" class=\"dataframe\">\n",
              "  <thead>\n",
              "    <tr style=\"text-align: right;\">\n",
              "      <th></th>\n",
              "      <th>id</th>\n",
              "      <th>variables</th>\n",
              "      <th>train_rmse</th>\n",
              "      <th>test_rmse</th>\n",
              "    </tr>\n",
              "  </thead>\n",
              "  <tbody>\n",
              "    <tr>\n",
              "      <th>0</th>\n",
              "      <td>15</td>\n",
              "      <td>acousticness+album_type+danceability+duration_...</td>\n",
              "      <td>6.421624</td>\n",
              "      <td>11.448581</td>\n",
              "    </tr>\n",
              "    <tr>\n",
              "      <th>1</th>\n",
              "      <td>14</td>\n",
              "      <td>acousticness+album_type+danceability+duration_...</td>\n",
              "      <td>6.797956</td>\n",
              "      <td>11.456177</td>\n",
              "    </tr>\n",
              "    <tr>\n",
              "      <th>2</th>\n",
              "      <td>13</td>\n",
              "      <td>acousticness+album_type+danceability+duration_...</td>\n",
              "      <td>6.771020</td>\n",
              "      <td>11.457800</td>\n",
              "    </tr>\n",
              "    <tr>\n",
              "      <th>3</th>\n",
              "      <td>12</td>\n",
              "      <td>acousticness+album_type+duration_ms+energy+exp...</td>\n",
              "      <td>6.859527</td>\n",
              "      <td>11.579148</td>\n",
              "    </tr>\n",
              "    <tr>\n",
              "      <th>4</th>\n",
              "      <td>11</td>\n",
              "      <td>acousticness+album_type+duration_ms+explicit+i...</td>\n",
              "      <td>7.336419</td>\n",
              "      <td>11.740426</td>\n",
              "    </tr>\n",
              "    <tr>\n",
              "      <th>5</th>\n",
              "      <td>10</td>\n",
              "      <td>acousticness+album_type+duration_ms+explicit+i...</td>\n",
              "      <td>7.349599</td>\n",
              "      <td>11.917020</td>\n",
              "    </tr>\n",
              "    <tr>\n",
              "      <th>6</th>\n",
              "      <td>9</td>\n",
              "      <td>acousticness+album_type+duration_ms+explicit+i...</td>\n",
              "      <td>7.846724</td>\n",
              "      <td>12.111249</td>\n",
              "    </tr>\n",
              "    <tr>\n",
              "      <th>7</th>\n",
              "      <td>8</td>\n",
              "      <td>acousticness+album_type+duration_ms+explicit+i...</td>\n",
              "      <td>8.320275</td>\n",
              "      <td>12.314741</td>\n",
              "    </tr>\n",
              "    <tr>\n",
              "      <th>8</th>\n",
              "      <td>7</td>\n",
              "      <td>acousticness+album_type+duration_ms+explicit+i...</td>\n",
              "      <td>8.736402</td>\n",
              "      <td>12.549419</td>\n",
              "    </tr>\n",
              "    <tr>\n",
              "      <th>9</th>\n",
              "      <td>6</td>\n",
              "      <td>album_type+duration_ms+explicit+instrumentalne...</td>\n",
              "      <td>9.384686</td>\n",
              "      <td>12.999412</td>\n",
              "    </tr>\n",
              "    <tr>\n",
              "      <th>10</th>\n",
              "      <td>5</td>\n",
              "      <td>album_type+duration_ms+explicit+instrumentalne...</td>\n",
              "      <td>10.286031</td>\n",
              "      <td>13.377375</td>\n",
              "    </tr>\n",
              "    <tr>\n",
              "      <th>11</th>\n",
              "      <td>4</td>\n",
              "      <td>album_type+explicit+instrumentalness+total_tracks</td>\n",
              "      <td>12.774493</td>\n",
              "      <td>14.086606</td>\n",
              "    </tr>\n",
              "    <tr>\n",
              "      <th>12</th>\n",
              "      <td>3</td>\n",
              "      <td>album_type+explicit+total_tracks</td>\n",
              "      <td>15.548792</td>\n",
              "      <td>15.706140</td>\n",
              "    </tr>\n",
              "    <tr>\n",
              "      <th>13</th>\n",
              "      <td>2</td>\n",
              "      <td>album_type+explicit</td>\n",
              "      <td>18.356865</td>\n",
              "      <td>18.299616</td>\n",
              "    </tr>\n",
              "  </tbody>\n",
              "</table>\n",
              "</div>"
            ],
            "text/plain": [
              "    id  ...  test_rmse\n",
              "0   15  ...  11.448581\n",
              "1   14  ...  11.456177\n",
              "2   13  ...  11.457800\n",
              "3   12  ...  11.579148\n",
              "4   11  ...  11.740426\n",
              "5   10  ...  11.917020\n",
              "6    9  ...  12.111249\n",
              "7    8  ...  12.314741\n",
              "8    7  ...  12.549419\n",
              "9    6  ...  12.999412\n",
              "10   5  ...  13.377375\n",
              "11   4  ...  14.086606\n",
              "12   3  ...  15.706140\n",
              "13   2  ...  18.299616\n",
              "\n",
              "[14 rows x 4 columns]"
            ]
          },
          "metadata": {},
          "execution_count": 33
        }
      ]
    },
    {
      "cell_type": "code",
      "metadata": {
        "colab": {
          "base_uri": "https://localhost:8080/",
          "height": 624
        },
        "id": "RKTZ4fyoz5SQ",
        "outputId": "f38b2f9b-607d-45cc-835f-698539231745"
      },
      "source": [
        "pf.plot(x=\"id\", xlabel=\"Number of Variables\")"
      ],
      "id": "RKTZ4fyoz5SQ",
      "execution_count": null,
      "outputs": [
        {
          "output_type": "execute_result",
          "data": {
            "text/plain": [
              "<matplotlib.axes._subplots.AxesSubplot at 0x7f1b2a557550>"
            ]
          },
          "metadata": {},
          "execution_count": 34
        },
        {
          "output_type": "display_data",
          "data": {
            "image/png": "[encoded data removed]",
            "text/plain": [
              "<Figure size 1080x720 with 1 Axes>"
            ]
          },
          "metadata": {
            "needs_background": "light"
          }
        }
      ]
    },
    {
      "cell_type": "code",
      "metadata": {
        "colab": {
          "base_uri": "https://localhost:8080/"
        },
        "id": "ea491dc9",
        "outputId": "b6326157-2478-48dc-e5cf-66717b389eac"
      },
      "source": [
        "# Chose to take 12 for a simpler model. Trade-off between rmse score and complexity of model\n",
        "variables = pf[pf[\"id\"] == 12].variables.values[0]\n",
        "variables = variables.split(\"+\")\n",
        "\n",
        "new_X_train = X_train[variables]\n",
        "new_X_test = X_test[variables]\n",
        "new_model = xgb.XGBRegressor(objective ='reg:squarederror', \n",
        "                  colsample_bytree = 0.7, \n",
        "                  learning_rate = 0.01,\n",
        "                  max_depth = 10, \n",
        "                  n_estimators = 1000, \n",
        "                  seed=3101)\n",
        "\n",
        "new_model.fit(new_X_train, y_train)\n",
        "new_y_pred = new_model.predict(new_X_test)\n",
        "new_train_pred = new_model.predict(new_X_train)\n",
        "\n",
        "get_scores(y_train, y_test, new_train_pred, new_y_pred)"
      ],
      "id": "ea491dc9",
      "execution_count": null,
      "outputs": [
        {
          "output_type": "stream",
          "name": "stdout",
          "text": [
            "Train R^2: 0.9089662514544458\n",
            "Test R^2: 0.746764732563973\n",
            "Train RMSE: 7.002292632707638\n",
            "Test RMSE: 11.594517489502904\n",
            "Train MAE: 4.271989121147354\n",
            "Test MAE: 7.334287612711362\n",
            "Train MAPE: 0.34322721334906947\n",
            "Test MAPE: 0.6524795917150477\n"
          ]
        }
      ]
    },
    {
      "cell_type": "code",
      "metadata": {
        "colab": {
          "base_uri": "https://localhost:8080/",
          "height": 621
        },
        "id": "2c1091d1",
        "outputId": "95f85f76-2435-4a36-8406-6b9782ed75b3"
      },
      "source": [
        "xgb.plot_importance(new_model, importance_type = \"gain\")\n",
        "plt.rcParams['figure.figsize'] = [15, 10]\n",
        "plt.show()"
      ],
      "id": "2c1091d1",
      "execution_count": null,
      "outputs": [
        {
          "output_type": "display_data",
          "data": {
            "image/png": "[encoded data removed]",
            "text/plain": [
              "<Figure size 1080x720 with 1 Axes>"
            ]
          },
          "metadata": {
            "needs_background": "light"
          }
        }
      ]
    },
    {
      "cell_type": "code",
      "metadata": {
        "id": "7f7b8919"
      },
      "source": [
        ""
      ],
      "id": "7f7b8919",
      "execution_count": null,
      "outputs": []
    }
  ]
}