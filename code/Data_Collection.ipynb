{
  "nbformat": 4,
  "nbformat_minor": 0,
  "metadata": {
    "colab": {
      "name": "Spotify Scraping_Terry.ipynb",
      "provenance": []
    },
    "kernelspec": {
      "name": "python3",
      "display_name": "Python 3"
    },
    "language_info": {
      "name": "python"
    }
  },
  "cells": [
    {
      "cell_type": "code",
      "metadata": {
        "id": "fe5UneseRwL-"
      },
      "source": [
        "!pip install spotipy"
      ],
      "execution_count": null,
      "outputs": []
    },
    {
      "cell_type": "code",
      "metadata": {
        "id": "981b40gWQ-re"
      },
      "source": [
        "import spotipy\n",
        "from spotipy.oauth2 import SpotifyClientCredentials\n",
        "from spotipy.client import SpotifyException\n",
        "import json\n",
        "import pandas as pd"
      ],
      "execution_count": null,
      "outputs": []
    },
    {
      "cell_type": "markdown",
      "metadata": {
        "id": "JcHoUZkuS2xo"
      },
      "source": [
        "# Scraping Spotify Data"
      ]
    },
    {
      "cell_type": "code",
      "metadata": {
        "id": "MwnyfyA5Rc7X"
      },
      "source": [
        "credentials = json.load(open('/content/authorization.json'))\n",
        "client_id = credentials['client_id']\n",
        "client_secret = credentials['client_secret']\n",
        "\n",
        "client_credentials_manager = SpotifyClientCredentials(client_id=client_id,client_secret=client_secret)\n",
        "sp = spotipy.Spotify(client_credentials_manager=client_credentials_manager)"
      ],
      "execution_count": null,
      "outputs": []
    },
    {
      "cell_type": "code",
      "metadata": {
        "id": "bZl9RFncQyAe"
      },
      "source": [
        "def get_track_features(data):\n",
        "    track = {}\n",
        "\n",
        "    # Add Album Type\n",
        "    track['album_type'] = data['album']['album_type']\n",
        "\n",
        "    # Add Artists\n",
        "    artists = []\n",
        "    for i in data['album']['artists']:\n",
        "        artists.append(i['name'])\n",
        "    track['artists'] = (\"~\").join(sorted(artists))\n",
        "\n",
        "    # Add Album Name\n",
        "    track['album_name'] = data['album']['name']\n",
        "\n",
        "    # Add Album Total Tracks\n",
        "    track['total_tracks'] = data['album']['total_tracks']\n",
        "\n",
        "    # Add Explicit\n",
        "    track['explicit'] = data['explicit']\n",
        "\n",
        "    # Add Local\n",
        "    track['is_local'] = data['is_local']\n",
        "\n",
        "    # Add Name\n",
        "    track['name'] = data['name']\n",
        "\n",
        "    # Add Popularity\n",
        "    track['popularity'] = data['popularity']\n",
        "\n",
        "\n",
        "    # Get Audio Features\n",
        "    song_features = sp.audio_features(data['id'])[0]\n",
        "\n",
        "    if song_features is None:\n",
        "        return {}\n",
        "\n",
        "    # https://developer.spotify.com/documentation/web-api/reference/#category-tracks\n",
        "    del song_features['type']\n",
        "    del song_features['id']\n",
        "    del song_features['uri']\n",
        "    del song_features['track_href']\n",
        "    del song_features['analysis_url']\n",
        "\n",
        "    track.update(song_features)\n",
        "\n",
        "    return track"
      ],
      "execution_count": null,
      "outputs": []
    },
    {
      "cell_type": "code",
      "metadata": {
        "id": "_VoK-tcbRcxQ"
      },
      "source": [
        "years = [2010, 2011, 2012, 2013, 2014, 2015, 2016, 2017, 2018, 2019, 2020, 2021]\n",
        "for year in years:\n",
        "    x = []\n",
        "    for i in range(1000):\n",
        "        try:\n",
        "            track_results = sp.search(q='year:{}'.format(year), type='track', limit=1, offset=i)\n",
        "        except SpotifyException:\n",
        "            break\n",
        "        \n",
        "        if track_results['tracks']['items'] != []:\n",
        "            track_results = track_results['tracks']['items'][0]\n",
        "        else:\n",
        "            continue\n",
        "\n",
        "        track_features = get_track_features(track_results)\n",
        "        if track_features != {}:\n",
        "            x.append(track_features)\n",
        "    df = pd.DataFrame(x)\n",
        "    df.to_csv(\"{}.csv\".format(year), index=False)"
      ],
      "execution_count": null,
      "outputs": []
    },
    {
      "cell_type": "code",
      "metadata": {
        "id": "bjUwzIZYSBq8"
      },
      "source": [
        "df1 = pd.read_csv(\"/content/2010.csv\")\n",
        "df2 = pd.read_csv(\"/content/2011.csv\")\n",
        "df3 = pd.read_csv(\"/content/2012.csv\")\n",
        "df4 = pd.read_csv(\"/content/2013.csv\")\n",
        "df5 = pd.read_csv(\"/content/2014.csv\")\n",
        "df6 = pd.read_csv(\"/content/2015.csv\")\n",
        "df7 = pd.read_csv(\"/content/2016.csv\")\n",
        "df8 = pd.read_csv(\"/content/2017.csv\")\n",
        "df9 = pd.read_csv(\"/content/2018.csv\")\n",
        "df10 = pd.read_csv(\"/content/2019.csv\")\n",
        "df11 = pd.read_csv(\"/content/2020.csv\")\n",
        "df12 = pd.read_csv(\"/content/2021.csv\")"
      ],
      "execution_count": null,
      "outputs": []
    },
    {
      "cell_type": "code",
      "metadata": {
        "id": "2s3K7eTsThOw"
      },
      "source": [
        "combined_df = pd.concat([df1,df2,df3, df4, df5, df6, df7, df8, df9, df10, df11, df12])\n",
        "\n",
        "quarter_1_df = pd.concat([df1, df2, df3, df4])\n",
        "quarter_2_df = pd.concat([df5, df6, df7, df8])\n",
        "quarter_3_df = pd.concat([df9, df10, df11, df12])"
      ],
      "execution_count": null,
      "outputs": []
    },
    {
      "cell_type": "code",
      "metadata": {
        "id": "AmRhUt7FVoZI"
      },
      "source": [
        "combined_df = combined_df[~combined_df.duplicated()]"
      ],
      "execution_count": null,
      "outputs": []
    },
    {
      "cell_type": "code",
      "metadata": {
        "id": "OJ5gmNl5ThMc"
      },
      "source": [
        "combined_df.to_csv(\"2010_2021_songs.csv\", index=False)\n",
        "quarter_1_df.to_csv(\"quarter_1_songs.csv\", index=False)\n",
        "quarter_2_df.to_csv(\"quarter_2_songs.csv\", index=False)\n",
        "quarter_3_df.to_csv(\"quarter_3_songs.csv\", index=False)"
      ],
      "execution_count": null,
      "outputs": []
    },
    {
      "cell_type": "code",
      "metadata": {
        "id": "UmQzCxHyThKD"
      },
      "source": [
        "len(combined_df)"
      ],
      "execution_count": null,
      "outputs": []
    },
    {
      "cell_type": "code",
      "metadata": {
        "id": "hBXooqPTThE-"
      },
      "source": [
        ""
      ],
      "execution_count": null,
      "outputs": []
    },
    {
      "cell_type": "markdown",
      "metadata": {
        "id": "sIN5elcsIjNC"
      },
      "source": [
        "# Scraping Billboard Daily Hot 100 Data"
      ]
    },
    {
      "cell_type": "code",
      "metadata": {
        "id": "1nH8zFcpIoFx"
      },
      "source": [
        "credentials = json.load(open('/content/authorization.json'))\n",
        "client_id = credentials['client_id']\n",
        "client_secret = credentials['client_secret']\n",
        "\n",
        "client_credentials_manager = SpotifyClientCredentials(client_id=client_id,client_secret=client_secret)\n",
        "sp = spotipy.Spotify(client_credentials_manager=client_credentials_manager)"
      ],
      "execution_count": null,
      "outputs": []
    },
    {
      "cell_type": "code",
      "metadata": {
        "id": "EZTfbfNUIoDe"
      },
      "source": [
        "def get_track_features(data):\n",
        "    track = {}\n",
        "\n",
        "    # Add Album Type\n",
        "    track['album_type'] = data['album']['album_type']\n",
        "\n",
        "    # Add Artists\n",
        "    artists = []\n",
        "    for i in data['album']['artists']:\n",
        "        artists.append(i['name'])\n",
        "    track['artists'] = (\"~\").join(sorted(artists))\n",
        "\n",
        "    # Add Album Name\n",
        "    track['album_name'] = data['album']['name']\n",
        "\n",
        "    # Add Album Total Tracks\n",
        "    track['total_tracks'] = data['album']['total_tracks']\n",
        "\n",
        "    # Add Explicit\n",
        "    track['explicit'] = data['explicit']\n",
        "\n",
        "    # Add Local\n",
        "    track['is_local'] = data['is_local']\n",
        "\n",
        "    # Add Name\n",
        "    track['name'] = data['name']\n",
        "\n",
        "    # Add Popularity\n",
        "    track['popularity'] = data['popularity']\n",
        "\n",
        "\n",
        "    # Get Audio Features\n",
        "    song_features = sp.audio_features(data['id'])[0]\n",
        "\n",
        "    if song_features is None:\n",
        "        return {}\n",
        "\n",
        "    # https://developer.spotify.com/documentation/web-api/reference/#category-tracks\n",
        "    del song_features['type']\n",
        "    del song_features['id']\n",
        "    del song_features['uri']\n",
        "    del song_features['track_href']\n",
        "    del song_features['analysis_url']\n",
        "\n",
        "    track.update(song_features)\n",
        "\n",
        "    return track"
      ],
      "execution_count": null,
      "outputs": []
    },
    {
      "cell_type": "code",
      "metadata": {
        "id": "JgSQUm30IoBI"
      },
      "source": [
        "class Error(Exception):\n",
        "    \"\"\"Base class for other exceptions\"\"\"\n",
        "    pass\n",
        "\n",
        "class HTTPERROR(Error):\n",
        "    \"\"\"Raised when the status code is not 200\"\"\"\n",
        "    pass\n",
        "\n",
        "def get_billboard_data():\n",
        "    from datetime import date\n",
        "    import requests\n",
        "    from bs4 import BeautifulSoup\n",
        "    today = str(date.today()) # Hard code Date (Fixed at a certain Date) Evaluation will differ\n",
        "    URL = \"https://www.billboard.com/charts/hot-100/{}\".format(today)\n",
        "    page = requests.get(URL)\n",
        "\n",
        "    if page.status_code != 200:\n",
        "        raise HTTPERROR(\"Invalid URL\")\n",
        "    \n",
        "    soup = BeautifulSoup(page.content, \"html.parser\")\n",
        "\n",
        "    all_songs = soup.find_all(\"span\", {\"class\": \"chart-element__information__song text--truncate color--primary\"})\n",
        "    all_artists = soup.find_all(\"span\", {\"class\": \"chart-element__information__artist text--truncate color--secondary\"})\n",
        "\n",
        "    all_songs = list(map(lambda x: x.text, all_songs))\n",
        "    all_artists = list(map(lambda x: x.text, all_artists))\n",
        "    seq = range(1, len(all_songs)+1)\n",
        "\n",
        "    result = list(zip(seq, all_songs, all_artists))\n",
        "    return result"
      ],
      "execution_count": null,
      "outputs": []
    },
    {
      "cell_type": "code",
      "metadata": {
        "colab": {
          "base_uri": "https://localhost:8080/"
        },
        "id": "nxdGAGJyIn-s",
        "outputId": "c9a74901-62a3-42d7-b193-6617db4b5f50"
      },
      "source": [
        "billboard_data = get_billboard_data()"
      ],
      "execution_count": null,
      "outputs": [
        {
          "output_type": "stream",
          "name": "stdout",
          "text": [
            "https://www.billboard.com/charts/hot-100/2021-09-11\n"
          ]
        }
      ]
    },
    {
      "cell_type": "code",
      "metadata": {
        "colab": {
          "base_uri": "https://localhost:8080/"
        },
        "id": "eiIFp40-YQQK",
        "outputId": "2b3b2c78-cf44-4955-a5b3-97cb6473d7ca"
      },
      "source": [
        "billboard_data[0]"
      ],
      "execution_count": null,
      "outputs": [
        {
          "output_type": "execute_result",
          "data": {
            "text/plain": [
              "(1, 'Butter', 'BTS')"
            ]
          },
          "metadata": {},
          "execution_count": 62
        }
      ]
    },
    {
      "cell_type": "code",
      "metadata": {
        "id": "6yGo3r1FXHWn"
      },
      "source": [
        "main = []\n",
        "for i in billboard_data:\n",
        "    rank, song, artist = i\n",
        "    try:\n",
        "        track_result = sp.search(q=\"artist:{} track:{}\".format(artist, song))['tracks']['items'][0]\n",
        "    except IndexError:\n",
        "        artist = artist.split(\" Featuring\")[0]\n",
        "        artist = artist.split(\" &\")[0]\n",
        "        try:\n",
        "            track_result = sp.search(q=\"artist:{} track:{}\".format(artist, song))['tracks']['items'][0]\n",
        "        except IndexError:\n",
        "            continue\n",
        "    except SpotifyException:\n",
        "        raise SpotifyException\n",
        "    \n",
        "    track_features = get_track_features(track_result)\n",
        "    track_features[\"rank\"] = rank\n",
        "    if track_features != {}:\n",
        "        main.append(pd.DataFrame([track_features]))"
      ],
      "execution_count": null,
      "outputs": []
    },
    {
      "cell_type": "code",
      "metadata": {
        "id": "yqxaON3qbWWm"
      },
      "source": [
        "pd.concat(main).to_csv(\"test.csv\", index=False)"
      ],
      "execution_count": null,
      "outputs": []
    },
    {
      "cell_type": "markdown",
      "metadata": {
        "id": "ZNsujp6l2Uo6"
      },
      "source": [
        "# Adding Zhuolin & Zea Teng Data"
      ]
    },
    {
      "cell_type": "code",
      "metadata": {
        "colab": {
          "base_uri": "https://localhost:8080/"
        },
        "id": "IjASS4iSTXgr",
        "outputId": "384d8dc2-d0a2-43ed-a181-807efd1582bf"
      },
      "source": [
        "from google.colab import drive\n",
        "drive.mount('/content/gdrive')"
      ],
      "execution_count": null,
      "outputs": [
        {
          "output_type": "stream",
          "name": "stdout",
          "text": [
            "Mounted at /content/gdrive\n"
          ]
        }
      ]
    },
    {
      "cell_type": "code",
      "metadata": {
        "id": "-2D1i7PY2YMc"
      },
      "source": [
        "df = pd.read_csv(\"/content/gdrive/MyDrive/DSA3101 Grp 13/Data/spotify data_zhuolin.csv\")"
      ],
      "execution_count": null,
      "outputs": []
    },
    {
      "cell_type": "code",
      "metadata": {
        "colab": {
          "base_uri": "https://localhost:8080/",
          "height": 382
        },
        "id": "VG-QABUM2YKV",
        "outputId": "003733d5-11ad-4cf1-9804-2b9c5a89e5f2"
      },
      "source": [
        "df.head()"
      ],
      "execution_count": null,
      "outputs": [
        {
          "output_type": "execute_result",
          "data": {
            "text/html": [
              "<div>\n",
              "<style scoped>\n",
              "    .dataframe tbody tr th:only-of-type {\n",
              "        vertical-align: middle;\n",
              "    }\n",
              "\n",
              "    .dataframe tbody tr th {\n",
              "        vertical-align: top;\n",
              "    }\n",
              "\n",
              "    .dataframe thead th {\n",
              "        text-align: right;\n",
              "    }\n",
              "</style>\n",
              "<table border=\"1\" class=\"dataframe\">\n",
              "  <thead>\n",
              "    <tr style=\"text-align: right;\">\n",
              "      <th></th>\n",
              "      <th>id</th>\n",
              "      <th>title</th>\n",
              "      <th>first_artist</th>\n",
              "      <th>all_artists</th>\n",
              "      <th>danceability</th>\n",
              "      <th>energy</th>\n",
              "      <th>key</th>\n",
              "      <th>loudness</th>\n",
              "      <th>mode</th>\n",
              "      <th>acousticness</th>\n",
              "      <th>instrumentalness</th>\n",
              "      <th>liveness</th>\n",
              "      <th>valence</th>\n",
              "      <th>tempo</th>\n",
              "      <th>duration_ms</th>\n",
              "      <th>time_signature</th>\n",
              "    </tr>\n",
              "  </thead>\n",
              "  <tbody>\n",
              "    <tr>\n",
              "      <th>0</th>\n",
              "      <td>013AWvizllIUEC2FOBzOnh</td>\n",
              "      <td>Truly Madly Deeply</td>\n",
              "      <td>Savage Garden</td>\n",
              "      <td>['Savage Garden']</td>\n",
              "      <td>0.555</td>\n",
              "      <td>0.698</td>\n",
              "      <td>0</td>\n",
              "      <td>-8.874</td>\n",
              "      <td>1</td>\n",
              "      <td>0.40300</td>\n",
              "      <td>0.00000</td>\n",
              "      <td>0.0851</td>\n",
              "      <td>0.816</td>\n",
              "      <td>168.120</td>\n",
              "      <td>277267</td>\n",
              "      <td>4</td>\n",
              "    </tr>\n",
              "    <tr>\n",
              "      <th>1</th>\n",
              "      <td>015qd1I4v00JIoK7yOUgKC</td>\n",
              "      <td>Rush Rush</td>\n",
              "      <td>Paula Abdul</td>\n",
              "      <td>['Paula Abdul']</td>\n",
              "      <td>0.706</td>\n",
              "      <td>0.440</td>\n",
              "      <td>4</td>\n",
              "      <td>-11.577</td>\n",
              "      <td>1</td>\n",
              "      <td>0.76300</td>\n",
              "      <td>0.00000</td>\n",
              "      <td>0.0958</td>\n",
              "      <td>0.395</td>\n",
              "      <td>90.012</td>\n",
              "      <td>292933</td>\n",
              "      <td>4</td>\n",
              "    </tr>\n",
              "    <tr>\n",
              "      <th>2</th>\n",
              "      <td>02HqgLNHnZSOyckc9eQhq4</td>\n",
              "      <td>Freedom - Radio Version</td>\n",
              "      <td>DJ BoBo</td>\n",
              "      <td>['DJ BoBo']</td>\n",
              "      <td>0.631</td>\n",
              "      <td>0.850</td>\n",
              "      <td>0</td>\n",
              "      <td>-6.806</td>\n",
              "      <td>1</td>\n",
              "      <td>0.00764</td>\n",
              "      <td>0.01550</td>\n",
              "      <td>0.3240</td>\n",
              "      <td>0.512</td>\n",
              "      <td>140.017</td>\n",
              "      <td>236693</td>\n",
              "      <td>4</td>\n",
              "    </tr>\n",
              "    <tr>\n",
              "      <th>3</th>\n",
              "      <td>02lTDOxHeXTHsdwXoz6lpC</td>\n",
              "      <td>In the Meantime</td>\n",
              "      <td>Spacehog</td>\n",
              "      <td>['Spacehog']</td>\n",
              "      <td>0.269</td>\n",
              "      <td>0.895</td>\n",
              "      <td>9</td>\n",
              "      <td>-6.382</td>\n",
              "      <td>1</td>\n",
              "      <td>0.08300</td>\n",
              "      <td>0.00266</td>\n",
              "      <td>0.1530</td>\n",
              "      <td>0.160</td>\n",
              "      <td>168.479</td>\n",
              "      <td>299507</td>\n",
              "      <td>4</td>\n",
              "    </tr>\n",
              "    <tr>\n",
              "      <th>4</th>\n",
              "      <td>0303qZHRLFhKkOgO80toX9</td>\n",
              "      <td>Lazy Line Painter Jane</td>\n",
              "      <td>Belle &amp; Sebastian</td>\n",
              "      <td>['Belle &amp; Sebastian', 'Monica Queen']</td>\n",
              "      <td>0.343</td>\n",
              "      <td>0.747</td>\n",
              "      <td>6</td>\n",
              "      <td>-5.730</td>\n",
              "      <td>1</td>\n",
              "      <td>0.12700</td>\n",
              "      <td>0.00001</td>\n",
              "      <td>0.3100</td>\n",
              "      <td>0.237</td>\n",
              "      <td>125.389</td>\n",
              "      <td>347733</td>\n",
              "      <td>4</td>\n",
              "    </tr>\n",
              "  </tbody>\n",
              "</table>\n",
              "</div>"
            ],
            "text/plain": [
              "                       id                    title  ... duration_ms time_signature\n",
              "0  013AWvizllIUEC2FOBzOnh       Truly Madly Deeply  ...      277267              4\n",
              "1  015qd1I4v00JIoK7yOUgKC                Rush Rush  ...      292933              4\n",
              "2  02HqgLNHnZSOyckc9eQhq4  Freedom - Radio Version  ...      236693              4\n",
              "3  02lTDOxHeXTHsdwXoz6lpC          In the Meantime  ...      299507              4\n",
              "4  0303qZHRLFhKkOgO80toX9   Lazy Line Painter Jane  ...      347733              4\n",
              "\n",
              "[5 rows x 16 columns]"
            ]
          },
          "metadata": {},
          "execution_count": 133
        }
      ]
    },
    {
      "cell_type": "code",
      "metadata": {
        "id": "sojiKvuO34V6"
      },
      "source": [
        "s = list(map(lambda x: sp.audio_features(x)[0]['speechiness'], list(df[\"id\"])))\n",
        "df[\"speechiness\"] = s"
      ],
      "execution_count": null,
      "outputs": []
    },
    {
      "cell_type": "code",
      "metadata": {
        "colab": {
          "base_uri": "https://localhost:8080/",
          "height": 382
        },
        "id": "c3d3N8qW4oRO",
        "outputId": "cad93300-d878-48a0-e059-53b91e27f2ba"
      },
      "source": [
        "df.head()"
      ],
      "execution_count": null,
      "outputs": [
        {
          "output_type": "execute_result",
          "data": {
            "text/html": [
              "<div>\n",
              "<style scoped>\n",
              "    .dataframe tbody tr th:only-of-type {\n",
              "        vertical-align: middle;\n",
              "    }\n",
              "\n",
              "    .dataframe tbody tr th {\n",
              "        vertical-align: top;\n",
              "    }\n",
              "\n",
              "    .dataframe thead th {\n",
              "        text-align: right;\n",
              "    }\n",
              "</style>\n",
              "<table border=\"1\" class=\"dataframe\">\n",
              "  <thead>\n",
              "    <tr style=\"text-align: right;\">\n",
              "      <th></th>\n",
              "      <th>id</th>\n",
              "      <th>title</th>\n",
              "      <th>first_artist</th>\n",
              "      <th>all_artists</th>\n",
              "      <th>danceability</th>\n",
              "      <th>energy</th>\n",
              "      <th>key</th>\n",
              "      <th>loudness</th>\n",
              "      <th>mode</th>\n",
              "      <th>acousticness</th>\n",
              "      <th>instrumentalness</th>\n",
              "      <th>liveness</th>\n",
              "      <th>valence</th>\n",
              "      <th>tempo</th>\n",
              "      <th>duration_ms</th>\n",
              "      <th>time_signature</th>\n",
              "      <th>speechiness</th>\n",
              "    </tr>\n",
              "  </thead>\n",
              "  <tbody>\n",
              "    <tr>\n",
              "      <th>0</th>\n",
              "      <td>013AWvizllIUEC2FOBzOnh</td>\n",
              "      <td>Truly Madly Deeply</td>\n",
              "      <td>Savage Garden</td>\n",
              "      <td>['Savage Garden']</td>\n",
              "      <td>0.555</td>\n",
              "      <td>0.698</td>\n",
              "      <td>0</td>\n",
              "      <td>-8.874</td>\n",
              "      <td>1</td>\n",
              "      <td>0.40300</td>\n",
              "      <td>0.00000</td>\n",
              "      <td>0.0851</td>\n",
              "      <td>0.816</td>\n",
              "      <td>168.120</td>\n",
              "      <td>277267</td>\n",
              "      <td>4</td>\n",
              "      <td>0.0287</td>\n",
              "    </tr>\n",
              "    <tr>\n",
              "      <th>1</th>\n",
              "      <td>015qd1I4v00JIoK7yOUgKC</td>\n",
              "      <td>Rush Rush</td>\n",
              "      <td>Paula Abdul</td>\n",
              "      <td>['Paula Abdul']</td>\n",
              "      <td>0.706</td>\n",
              "      <td>0.440</td>\n",
              "      <td>4</td>\n",
              "      <td>-11.577</td>\n",
              "      <td>1</td>\n",
              "      <td>0.76300</td>\n",
              "      <td>0.00000</td>\n",
              "      <td>0.0958</td>\n",
              "      <td>0.395</td>\n",
              "      <td>90.012</td>\n",
              "      <td>292933</td>\n",
              "      <td>4</td>\n",
              "      <td>0.0493</td>\n",
              "    </tr>\n",
              "    <tr>\n",
              "      <th>2</th>\n",
              "      <td>02HqgLNHnZSOyckc9eQhq4</td>\n",
              "      <td>Freedom - Radio Version</td>\n",
              "      <td>DJ BoBo</td>\n",
              "      <td>['DJ BoBo']</td>\n",
              "      <td>0.631</td>\n",
              "      <td>0.850</td>\n",
              "      <td>0</td>\n",
              "      <td>-6.806</td>\n",
              "      <td>1</td>\n",
              "      <td>0.00764</td>\n",
              "      <td>0.01550</td>\n",
              "      <td>0.3240</td>\n",
              "      <td>0.512</td>\n",
              "      <td>140.017</td>\n",
              "      <td>236693</td>\n",
              "      <td>4</td>\n",
              "      <td>0.0436</td>\n",
              "    </tr>\n",
              "    <tr>\n",
              "      <th>3</th>\n",
              "      <td>02lTDOxHeXTHsdwXoz6lpC</td>\n",
              "      <td>In the Meantime</td>\n",
              "      <td>Spacehog</td>\n",
              "      <td>['Spacehog']</td>\n",
              "      <td>0.269</td>\n",
              "      <td>0.895</td>\n",
              "      <td>9</td>\n",
              "      <td>-6.382</td>\n",
              "      <td>1</td>\n",
              "      <td>0.08300</td>\n",
              "      <td>0.00266</td>\n",
              "      <td>0.1530</td>\n",
              "      <td>0.160</td>\n",
              "      <td>168.479</td>\n",
              "      <td>299507</td>\n",
              "      <td>4</td>\n",
              "      <td>0.1180</td>\n",
              "    </tr>\n",
              "    <tr>\n",
              "      <th>4</th>\n",
              "      <td>0303qZHRLFhKkOgO80toX9</td>\n",
              "      <td>Lazy Line Painter Jane</td>\n",
              "      <td>Belle &amp; Sebastian</td>\n",
              "      <td>['Belle &amp; Sebastian', 'Monica Queen']</td>\n",
              "      <td>0.343</td>\n",
              "      <td>0.747</td>\n",
              "      <td>6</td>\n",
              "      <td>-5.730</td>\n",
              "      <td>1</td>\n",
              "      <td>0.12700</td>\n",
              "      <td>0.00001</td>\n",
              "      <td>0.3100</td>\n",
              "      <td>0.237</td>\n",
              "      <td>125.389</td>\n",
              "      <td>347733</td>\n",
              "      <td>4</td>\n",
              "      <td>0.0632</td>\n",
              "    </tr>\n",
              "  </tbody>\n",
              "</table>\n",
              "</div>"
            ],
            "text/plain": [
              "                       id                    title  ... time_signature speechiness\n",
              "0  013AWvizllIUEC2FOBzOnh       Truly Madly Deeply  ...              4      0.0287\n",
              "1  015qd1I4v00JIoK7yOUgKC                Rush Rush  ...              4      0.0493\n",
              "2  02HqgLNHnZSOyckc9eQhq4  Freedom - Radio Version  ...              4      0.0436\n",
              "3  02lTDOxHeXTHsdwXoz6lpC          In the Meantime  ...              4      0.1180\n",
              "4  0303qZHRLFhKkOgO80toX9   Lazy Line Painter Jane  ...              4      0.0632\n",
              "\n",
              "[5 rows x 17 columns]"
            ]
          },
          "metadata": {},
          "execution_count": 135
        }
      ]
    },
    {
      "cell_type": "markdown",
      "metadata": {
        "id": "tw_SaxAw3Ogw"
      },
      "source": [
        "Columns needed:\n",
        "album_type\n",
        "artists\n",
        "album_name\n",
        "total_tracks\n",
        "explicit\n",
        "is_local\n",
        "name (aka title)\n",
        "popularity\n",
        "speechiness\n"
      ]
    },
    {
      "cell_type": "code",
      "metadata": {
        "id": "L7llWkwN4_AL"
      },
      "source": [
        "def get_additional_features(data):\n",
        "    track = {}\n",
        "\n",
        "    # Add Album Type\n",
        "    track['album_type'] = data['album']['album_type']\n",
        "\n",
        "    # Add Artists\n",
        "    artists = []\n",
        "    for i in data['album']['artists']:\n",
        "        artists.append(i['name'])\n",
        "    track['artists'] = \"~\".join(sorted(artists))\n",
        "\n",
        "    # Add Album Name\n",
        "    track['album_name'] = data['album']['name']\n",
        "\n",
        "    # Add Album Total Tracks\n",
        "    track['total_tracks'] = data['album']['total_tracks']\n",
        "\n",
        "    # Add Explicit\n",
        "    track['explicit'] = data['explicit']\n",
        "\n",
        "    # Add Local\n",
        "    track['is_local'] = data['is_local']\n",
        "\n",
        "    # Add Popularity\n",
        "    track['popularity'] = data['popularity']\n",
        "\n",
        "    return track"
      ],
      "execution_count": null,
      "outputs": []
    },
    {
      "cell_type": "code",
      "metadata": {
        "id": "z5f6Ct6O2YH9"
      },
      "source": [
        "new_data = []\n",
        "for i in list(df[\"id\"]):\n",
        "    new_data.append(get_additional_features(sp.track(i)))"
      ],
      "execution_count": null,
      "outputs": []
    },
    {
      "cell_type": "code",
      "metadata": {
        "id": "yI2aou9v2YC7"
      },
      "source": [
        "final_dict = {}\n",
        "for i in new_data:\n",
        "    if \"album_name\" not in final_dict:\n",
        "        final_dict[\"album_name\"] = []\n",
        "    final_dict[\"album_name\"].append(i[\"album_name\"])\n",
        "\n",
        "    if \"artists\" not in final_dict:\n",
        "        final_dict[\"artists\"] = []\n",
        "    final_dict[\"artists\"].append(i[\"artists\"])\n",
        "\n",
        "    if \"album_type\" not in final_dict:\n",
        "        final_dict[\"album_type\"] = []\n",
        "    final_dict[\"album_type\"].append(i[\"album_type\"])\n",
        "\n",
        "    if \"explicit\" not in final_dict:\n",
        "        final_dict[\"explicit\"] = []\n",
        "    final_dict[\"explicit\"].append(i[\"explicit\"])\n",
        "\n",
        "    if \"is_local\" not in final_dict:\n",
        "        final_dict[\"is_local\"] = []\n",
        "    final_dict[\"is_local\"].append(i[\"is_local\"]) \n",
        "\n",
        "    if \"popularity\" not in final_dict:\n",
        "        final_dict[\"popularity\"] = []\n",
        "    final_dict[\"popularity\"].append(i[\"popularity\"]) \n",
        "\n",
        "    if \"total_tracks\" not in final_dict:\n",
        "        final_dict[\"total_tracks\"] = []\n",
        "    final_dict[\"total_tracks\"].append(i[\"total_tracks\"]) "
      ],
      "execution_count": null,
      "outputs": []
    },
    {
      "cell_type": "code",
      "metadata": {
        "id": "nav5ShYd2YAX"
      },
      "source": [
        "add_df = pd.DataFrame(final_dict)"
      ],
      "execution_count": null,
      "outputs": []
    },
    {
      "cell_type": "code",
      "metadata": {
        "id": "s8UPgXanCkGo"
      },
      "source": [
        "new_df = pd.concat([df,add_df], axis=1)"
      ],
      "execution_count": null,
      "outputs": []
    },
    {
      "cell_type": "code",
      "metadata": {
        "colab": {
          "base_uri": "https://localhost:8080/",
          "height": 382
        },
        "id": "nmqumY__EQli",
        "outputId": "9824ac71-507f-4761-8ea4-297bc67947a5"
      },
      "source": [
        "new_df.head()"
      ],
      "execution_count": null,
      "outputs": [
        {
          "output_type": "execute_result",
          "data": {
            "text/html": [
              "<div>\n",
              "<style scoped>\n",
              "    .dataframe tbody tr th:only-of-type {\n",
              "        vertical-align: middle;\n",
              "    }\n",
              "\n",
              "    .dataframe tbody tr th {\n",
              "        vertical-align: top;\n",
              "    }\n",
              "\n",
              "    .dataframe thead th {\n",
              "        text-align: right;\n",
              "    }\n",
              "</style>\n",
              "<table border=\"1\" class=\"dataframe\">\n",
              "  <thead>\n",
              "    <tr style=\"text-align: right;\">\n",
              "      <th></th>\n",
              "      <th>id</th>\n",
              "      <th>title</th>\n",
              "      <th>first_artist</th>\n",
              "      <th>all_artists</th>\n",
              "      <th>danceability</th>\n",
              "      <th>energy</th>\n",
              "      <th>key</th>\n",
              "      <th>loudness</th>\n",
              "      <th>mode</th>\n",
              "      <th>acousticness</th>\n",
              "      <th>instrumentalness</th>\n",
              "      <th>liveness</th>\n",
              "      <th>valence</th>\n",
              "      <th>tempo</th>\n",
              "      <th>duration_ms</th>\n",
              "      <th>time_signature</th>\n",
              "      <th>speechiness</th>\n",
              "      <th>album_name</th>\n",
              "      <th>artists</th>\n",
              "      <th>album_type</th>\n",
              "      <th>explicit</th>\n",
              "      <th>is_local</th>\n",
              "      <th>popularity</th>\n",
              "      <th>total_tracks</th>\n",
              "    </tr>\n",
              "  </thead>\n",
              "  <tbody>\n",
              "    <tr>\n",
              "      <th>0</th>\n",
              "      <td>013AWvizllIUEC2FOBzOnh</td>\n",
              "      <td>Truly Madly Deeply</td>\n",
              "      <td>Savage Garden</td>\n",
              "      <td>['Savage Garden']</td>\n",
              "      <td>0.555</td>\n",
              "      <td>0.698</td>\n",
              "      <td>0</td>\n",
              "      <td>-8.874</td>\n",
              "      <td>1</td>\n",
              "      <td>0.40300</td>\n",
              "      <td>0.00000</td>\n",
              "      <td>0.0851</td>\n",
              "      <td>0.816</td>\n",
              "      <td>168.120</td>\n",
              "      <td>277267</td>\n",
              "      <td>4</td>\n",
              "      <td>0.0287</td>\n",
              "      <td>Savage Garden</td>\n",
              "      <td>Savage Garden</td>\n",
              "      <td>album</td>\n",
              "      <td>False</td>\n",
              "      <td>False</td>\n",
              "      <td>72</td>\n",
              "      <td>11</td>\n",
              "    </tr>\n",
              "    <tr>\n",
              "      <th>1</th>\n",
              "      <td>015qd1I4v00JIoK7yOUgKC</td>\n",
              "      <td>Rush Rush</td>\n",
              "      <td>Paula Abdul</td>\n",
              "      <td>['Paula Abdul']</td>\n",
              "      <td>0.706</td>\n",
              "      <td>0.440</td>\n",
              "      <td>4</td>\n",
              "      <td>-11.577</td>\n",
              "      <td>1</td>\n",
              "      <td>0.76300</td>\n",
              "      <td>0.00000</td>\n",
              "      <td>0.0958</td>\n",
              "      <td>0.395</td>\n",
              "      <td>90.012</td>\n",
              "      <td>292933</td>\n",
              "      <td>4</td>\n",
              "      <td>0.0493</td>\n",
              "      <td>Spellbound</td>\n",
              "      <td>Paula Abdul</td>\n",
              "      <td>album</td>\n",
              "      <td>False</td>\n",
              "      <td>False</td>\n",
              "      <td>61</td>\n",
              "      <td>11</td>\n",
              "    </tr>\n",
              "    <tr>\n",
              "      <th>2</th>\n",
              "      <td>02HqgLNHnZSOyckc9eQhq4</td>\n",
              "      <td>Freedom - Radio Version</td>\n",
              "      <td>DJ BoBo</td>\n",
              "      <td>['DJ BoBo']</td>\n",
              "      <td>0.631</td>\n",
              "      <td>0.850</td>\n",
              "      <td>0</td>\n",
              "      <td>-6.806</td>\n",
              "      <td>1</td>\n",
              "      <td>0.00764</td>\n",
              "      <td>0.01550</td>\n",
              "      <td>0.3240</td>\n",
              "      <td>0.512</td>\n",
              "      <td>140.017</td>\n",
              "      <td>236693</td>\n",
              "      <td>4</td>\n",
              "      <td>0.0436</td>\n",
              "      <td>Freedom</td>\n",
              "      <td>DJ BoBo</td>\n",
              "      <td>single</td>\n",
              "      <td>False</td>\n",
              "      <td>False</td>\n",
              "      <td>0</td>\n",
              "      <td>4</td>\n",
              "    </tr>\n",
              "    <tr>\n",
              "      <th>3</th>\n",
              "      <td>02lTDOxHeXTHsdwXoz6lpC</td>\n",
              "      <td>In the Meantime</td>\n",
              "      <td>Spacehog</td>\n",
              "      <td>['Spacehog']</td>\n",
              "      <td>0.269</td>\n",
              "      <td>0.895</td>\n",
              "      <td>9</td>\n",
              "      <td>-6.382</td>\n",
              "      <td>1</td>\n",
              "      <td>0.08300</td>\n",
              "      <td>0.00266</td>\n",
              "      <td>0.1530</td>\n",
              "      <td>0.160</td>\n",
              "      <td>168.479</td>\n",
              "      <td>299507</td>\n",
              "      <td>4</td>\n",
              "      <td>0.1180</td>\n",
              "      <td>Resident Alien</td>\n",
              "      <td>Spacehog</td>\n",
              "      <td>album</td>\n",
              "      <td>False</td>\n",
              "      <td>False</td>\n",
              "      <td>61</td>\n",
              "      <td>13</td>\n",
              "    </tr>\n",
              "    <tr>\n",
              "      <th>4</th>\n",
              "      <td>0303qZHRLFhKkOgO80toX9</td>\n",
              "      <td>Lazy Line Painter Jane</td>\n",
              "      <td>Belle &amp; Sebastian</td>\n",
              "      <td>['Belle &amp; Sebastian', 'Monica Queen']</td>\n",
              "      <td>0.343</td>\n",
              "      <td>0.747</td>\n",
              "      <td>6</td>\n",
              "      <td>-5.730</td>\n",
              "      <td>1</td>\n",
              "      <td>0.12700</td>\n",
              "      <td>0.00001</td>\n",
              "      <td>0.3100</td>\n",
              "      <td>0.237</td>\n",
              "      <td>125.389</td>\n",
              "      <td>347733</td>\n",
              "      <td>4</td>\n",
              "      <td>0.0632</td>\n",
              "      <td>Push Barman To Open Old Wounds</td>\n",
              "      <td>Belle &amp; Sebastian</td>\n",
              "      <td>album</td>\n",
              "      <td>False</td>\n",
              "      <td>False</td>\n",
              "      <td>8</td>\n",
              "      <td>25</td>\n",
              "    </tr>\n",
              "  </tbody>\n",
              "</table>\n",
              "</div>"
            ],
            "text/plain": [
              "                       id                    title  ... popularity total_tracks\n",
              "0  013AWvizllIUEC2FOBzOnh       Truly Madly Deeply  ...         72           11\n",
              "1  015qd1I4v00JIoK7yOUgKC                Rush Rush  ...         61           11\n",
              "2  02HqgLNHnZSOyckc9eQhq4  Freedom - Radio Version  ...          0            4\n",
              "3  02lTDOxHeXTHsdwXoz6lpC          In the Meantime  ...         61           13\n",
              "4  0303qZHRLFhKkOgO80toX9   Lazy Line Painter Jane  ...          8           25\n",
              "\n",
              "[5 rows x 24 columns]"
            ]
          },
          "metadata": {},
          "execution_count": 142
        }
      ]
    },
    {
      "cell_type": "code",
      "metadata": {
        "id": "Aq2pHirqCtV-"
      },
      "source": [
        "new_df = new_df[['album_type', \"artists\", 'album_name', 'total_tracks', 'explicit', \n",
        "                 'is_local', 'title', 'popularity', 'danceability', 'energy', 'key', 'loudness', \n",
        "                 'mode', 'speechiness', 'acousticness', 'instrumentalness', \n",
        "                 'liveness', 'valence', 'tempo', 'duration_ms', 'time_signature']]"
      ],
      "execution_count": null,
      "outputs": []
    },
    {
      "cell_type": "code",
      "metadata": {
        "id": "b11bQYOrCtUc"
      },
      "source": [
        "new_df = new_df.rename(columns={'title': 'name'})"
      ],
      "execution_count": null,
      "outputs": []
    },
    {
      "cell_type": "code",
      "metadata": {
        "id": "4iqnQDiRCtQY"
      },
      "source": [
        "new_df.to_csv(\"spotify data_zhuolin_added.csv\", index=False)"
      ],
      "execution_count": null,
      "outputs": []
    },
    {
      "cell_type": "code",
      "metadata": {
        "id": "fu5N-tOKCtMG"
      },
      "source": [
        ""
      ],
      "execution_count": null,
      "outputs": []
    },
    {
      "cell_type": "code",
      "metadata": {
        "id": "NZgn0LyIt_u9"
      },
      "source": [
        ""
      ],
      "execution_count": null,
      "outputs": []
    },
    {
      "cell_type": "code",
      "metadata": {
        "id": "JXf26lBKt_s3"
      },
      "source": [
        ""
      ],
      "execution_count": null,
      "outputs": []
    },
    {
      "cell_type": "markdown",
      "metadata": {
        "id": "bUpK9Cb4Sw2Y"
      },
      "source": [
        "# Jieyi Data"
      ]
    },
    {
      "cell_type": "code",
      "metadata": {
        "id": "wI0eY8hfS0PZ"
      },
      "source": [
        "client_id = '9ebf692e8c9f403a8aec3a3e51c56fbc'\n",
        "client_secret = '6defdf79ede94e8d9704bdfef6a0c715'\n",
        "client_credentials_manager = SpotifyClientCredentials(client_id=client_id,client_secret=client_secret)\n",
        "sp = spotipy.Spotify(client_credentials_manager=client_credentials_manager)"
      ],
      "execution_count": null,
      "outputs": []
    },
    {
      "cell_type": "code",
      "metadata": {
        "id": "1wYVgYi4WODw"
      },
      "source": [
        "def get_track_features(data):\n",
        "    track = {}\n",
        "\n",
        "    # Add Album Type\n",
        "    track['album_type'] = data['album']['album_type']\n",
        "\n",
        "    # Add Artists\n",
        "    artists = []\n",
        "    for i in data['album']['artists']:\n",
        "        artists.append(i['name'])\n",
        "    track['artists'] = \"~\".join(sorted(artists))\n",
        "\n",
        "    # Add Album Name\n",
        "    track['album_name'] = data['album']['name']\n",
        "\n",
        "    # Add Album Total Tracks\n",
        "    track['total_tracks'] = data['album']['total_tracks']\n",
        "\n",
        "    # Add Explicit\n",
        "    track['explicit'] = data['explicit']\n",
        "\n",
        "    # Add Local\n",
        "    track['is_local'] = data['is_local']\n",
        "\n",
        "    # Add Name\n",
        "    track['name'] = data['name']\n",
        "\n",
        "    # Add Popularity\n",
        "    track['popularity'] = data['popularity']\n",
        "\n",
        "\n",
        "    # Get Audio Features\n",
        "    song_features = sp.audio_features(data['id'])[0]\n",
        "\n",
        "    if song_features is None:\n",
        "        return {}\n",
        "\n",
        "    # https://developer.spotify.com/documentation/web-api/reference/#category-tracks\n",
        "    del song_features['type']\n",
        "    del song_features['id']\n",
        "    del song_features['uri']\n",
        "    del song_features['track_href']\n",
        "    del song_features['analysis_url']\n",
        "\n",
        "    track.update(song_features)\n",
        "\n",
        "    return track"
      ],
      "execution_count": null,
      "outputs": []
    },
    {
      "cell_type": "code",
      "metadata": {
        "id": "F4BrhTz9UeKk"
      },
      "source": [
        "playlist_uri = [\"2Grs4rKhpXyvDH69yU0rXc\", \"0COB45vygvENL4A9BDKtLi\", \"5UwDgZFj9d46gjtXT6H1k1\"]\n",
        "\n",
        "data=[]\n",
        "\n",
        "for uri in playlist_uri:\n",
        "    results = sp.user_playlist('jieyi33', uri , 'tracks')['tracks']['items']\n",
        "\n",
        "    for i in results:\n",
        "        track_features = get_track_features(i['track'])\n",
        "        data.append(track_features)\n",
        "\n",
        "df = pd.DataFrame(data)\n",
        "#df.to_csv(\"{}.csv\".format(year), index=False)"
      ],
      "execution_count": null,
      "outputs": []
    },
    {
      "cell_type": "code",
      "metadata": {
        "id": "IZyRpSvpTfG1"
      },
      "source": [
        "df.to_csv(\"spotify data_jieyi.csv\", index=False)"
      ],
      "execution_count": null,
      "outputs": []
    },
    {
      "cell_type": "code",
      "metadata": {
        "id": "XUKUCeqVTfD9"
      },
      "source": [
        ""
      ],
      "execution_count": null,
      "outputs": []
    },
    {
      "cell_type": "code",
      "metadata": {
        "id": "cEsCVNjdTfBy"
      },
      "source": [
        ""
      ],
      "execution_count": null,
      "outputs": []
    },
    {
      "cell_type": "code",
      "metadata": {
        "id": "GEtwfROQTe_N"
      },
      "source": [
        ""
      ],
      "execution_count": null,
      "outputs": []
    },
    {
      "cell_type": "markdown",
      "metadata": {
        "id": "9dnbuM7IlYY4"
      },
      "source": [
        "# Combining Data"
      ]
    },
    {
      "cell_type": "code",
      "metadata": {
        "colab": {
          "base_uri": "https://localhost:8080/"
        },
        "id": "YdeDxOfNlbeb",
        "outputId": "9415e9e1-696d-4f82-832a-d8654f6b271c"
      },
      "source": [
        "from google.colab import drive\n",
        "drive.mount('/content/gdrive')"
      ],
      "execution_count": null,
      "outputs": [
        {
          "output_type": "stream",
          "name": "stdout",
          "text": [
            "Mounted at /content/gdrive\n"
          ]
        }
      ]
    },
    {
      "cell_type": "code",
      "metadata": {
        "id": "11KNJPwVlbZ3"
      },
      "source": [
        "terry_df = pd.read_csv(\"/content/gdrive/MyDrive/DSA3101 Grp 13/Data/2010_2021_songs.csv\")\n",
        "jieyi_df = pd.read_csv(\"/content/gdrive/MyDrive/DSA3101 Grp 13/Data/spotify data_jieyi.csv\")\n",
        "zhuolin_df = pd.read_csv(\"/content/gdrive/MyDrive/DSA3101 Grp 13/Data/spotify data_zeateng_added.csv\")\n",
        "zeateng_df = pd.read_csv(\"/content/gdrive/MyDrive/DSA3101 Grp 13/Data/spotify data_zhuolin_added.csv\")\n"
      ],
      "execution_count": null,
      "outputs": []
    },
    {
      "cell_type": "code",
      "metadata": {
        "id": "I0yCpFPrmeoV"
      },
      "source": [
        "new_artists = list(map(lambda x: x.split(\"~\"), terry_df['artists']))\n",
        "terry_df['artists'] = new_artists"
      ],
      "execution_count": null,
      "outputs": []
    },
    {
      "cell_type": "code",
      "metadata": {
        "id": "6PRDiV1fl6Uc"
      },
      "source": [
        "combined_df = pd.concat([terry_df, jieyi_df, zhuolin_df, zeateng_df])"
      ],
      "execution_count": null,
      "outputs": []
    },
    {
      "cell_type": "code",
      "metadata": {
        "colab": {
          "base_uri": "https://localhost:8080/",
          "height": 687
        },
        "id": "neEvi5Ysl6R9",
        "outputId": "cced8818-b8f9-4af0-d055-28b6d34517f5"
      },
      "source": [
        "combined_df"
      ],
      "execution_count": null,
      "outputs": [
        {
          "output_type": "execute_result",
          "data": {
            "text/html": [
              "<div>\n",
              "<style scoped>\n",
              "    .dataframe tbody tr th:only-of-type {\n",
              "        vertical-align: middle;\n",
              "    }\n",
              "\n",
              "    .dataframe tbody tr th {\n",
              "        vertical-align: top;\n",
              "    }\n",
              "\n",
              "    .dataframe thead th {\n",
              "        text-align: right;\n",
              "    }\n",
              "</style>\n",
              "<table border=\"1\" class=\"dataframe\">\n",
              "  <thead>\n",
              "    <tr style=\"text-align: right;\">\n",
              "      <th></th>\n",
              "      <th>album_type</th>\n",
              "      <th>artists</th>\n",
              "      <th>album_name</th>\n",
              "      <th>total_tracks</th>\n",
              "      <th>explicit</th>\n",
              "      <th>is_local</th>\n",
              "      <th>name</th>\n",
              "      <th>popularity</th>\n",
              "      <th>danceability</th>\n",
              "      <th>energy</th>\n",
              "      <th>key</th>\n",
              "      <th>loudness</th>\n",
              "      <th>mode</th>\n",
              "      <th>speechiness</th>\n",
              "      <th>acousticness</th>\n",
              "      <th>instrumentalness</th>\n",
              "      <th>liveness</th>\n",
              "      <th>valence</th>\n",
              "      <th>tempo</th>\n",
              "      <th>duration_ms</th>\n",
              "      <th>time_signature</th>\n",
              "    </tr>\n",
              "  </thead>\n",
              "  <tbody>\n",
              "    <tr>\n",
              "      <th>0</th>\n",
              "      <td>album</td>\n",
              "      <td>Mac Miller</td>\n",
              "      <td>K.I.D.S.</td>\n",
              "      <td>16</td>\n",
              "      <td>True</td>\n",
              "      <td>False</td>\n",
              "      <td>The Spins</td>\n",
              "      <td>80</td>\n",
              "      <td>0.794</td>\n",
              "      <td>0.766</td>\n",
              "      <td>9</td>\n",
              "      <td>-3.894</td>\n",
              "      <td>0</td>\n",
              "      <td>0.0377</td>\n",
              "      <td>0.01350</td>\n",
              "      <td>0.000000</td>\n",
              "      <td>0.0785</td>\n",
              "      <td>0.550</td>\n",
              "      <td>127.007</td>\n",
              "      <td>195873</td>\n",
              "      <td>4</td>\n",
              "    </tr>\n",
              "    <tr>\n",
              "      <th>1</th>\n",
              "      <td>album</td>\n",
              "      <td>Waylon Jennings~Willie Nelson</td>\n",
              "      <td>Waylon &amp; Willie</td>\n",
              "      <td>11</td>\n",
              "      <td>False</td>\n",
              "      <td>False</td>\n",
              "      <td>The Year 2003 Minus 25 - Remastered</td>\n",
              "      <td>43</td>\n",
              "      <td>0.626</td>\n",
              "      <td>0.457</td>\n",
              "      <td>4</td>\n",
              "      <td>-13.785</td>\n",
              "      <td>1</td>\n",
              "      <td>0.0384</td>\n",
              "      <td>0.35500</td>\n",
              "      <td>0.000009</td>\n",
              "      <td>0.0668</td>\n",
              "      <td>0.474</td>\n",
              "      <td>102.166</td>\n",
              "      <td>184267</td>\n",
              "      <td>4</td>\n",
              "    </tr>\n",
              "    <tr>\n",
              "      <th>2</th>\n",
              "      <td>album</td>\n",
              "      <td>Bruno Mars</td>\n",
              "      <td>Doo-Wops &amp; Hooligans</td>\n",
              "      <td>10</td>\n",
              "      <td>False</td>\n",
              "      <td>False</td>\n",
              "      <td>Talking to the Moon</td>\n",
              "      <td>82</td>\n",
              "      <td>0.523</td>\n",
              "      <td>0.606</td>\n",
              "      <td>1</td>\n",
              "      <td>-4.754</td>\n",
              "      <td>0</td>\n",
              "      <td>0.0301</td>\n",
              "      <td>0.51200</td>\n",
              "      <td>0.000000</td>\n",
              "      <td>0.1060</td>\n",
              "      <td>0.065</td>\n",
              "      <td>145.837</td>\n",
              "      <td>217867</td>\n",
              "      <td>4</td>\n",
              "    </tr>\n",
              "    <tr>\n",
              "      <th>3</th>\n",
              "      <td>single</td>\n",
              "      <td>Anthem Lights</td>\n",
              "      <td>Best of the Year Medleys: 2007 - 2012</td>\n",
              "      <td>6</td>\n",
              "      <td>False</td>\n",
              "      <td>False</td>\n",
              "      <td>Best of 2010: Baby / Break Even / Need You Now...</td>\n",
              "      <td>42</td>\n",
              "      <td>0.417</td>\n",
              "      <td>0.443</td>\n",
              "      <td>5</td>\n",
              "      <td>-6.261</td>\n",
              "      <td>1</td>\n",
              "      <td>0.0328</td>\n",
              "      <td>0.70900</td>\n",
              "      <td>0.000000</td>\n",
              "      <td>0.2170</td>\n",
              "      <td>0.470</td>\n",
              "      <td>119.903</td>\n",
              "      <td>155342</td>\n",
              "      <td>4</td>\n",
              "    </tr>\n",
              "    <tr>\n",
              "      <th>4</th>\n",
              "      <td>single</td>\n",
              "      <td>Roar</td>\n",
              "      <td>I Can't Handle Change</td>\n",
              "      <td>6</td>\n",
              "      <td>True</td>\n",
              "      <td>False</td>\n",
              "      <td>I Can't Handle Change</td>\n",
              "      <td>81</td>\n",
              "      <td>0.247</td>\n",
              "      <td>0.438</td>\n",
              "      <td>5</td>\n",
              "      <td>-8.479</td>\n",
              "      <td>1</td>\n",
              "      <td>0.0358</td>\n",
              "      <td>0.04550</td>\n",
              "      <td>0.000871</td>\n",
              "      <td>0.1110</td>\n",
              "      <td>0.390</td>\n",
              "      <td>185.716</td>\n",
              "      <td>198213</td>\n",
              "      <td>3</td>\n",
              "    </tr>\n",
              "    <tr>\n",
              "      <th>...</th>\n",
              "      <td>...</td>\n",
              "      <td>...</td>\n",
              "      <td>...</td>\n",
              "      <td>...</td>\n",
              "      <td>...</td>\n",
              "      <td>...</td>\n",
              "      <td>...</td>\n",
              "      <td>...</td>\n",
              "      <td>...</td>\n",
              "      <td>...</td>\n",
              "      <td>...</td>\n",
              "      <td>...</td>\n",
              "      <td>...</td>\n",
              "      <td>...</td>\n",
              "      <td>...</td>\n",
              "      <td>...</td>\n",
              "      <td>...</td>\n",
              "      <td>...</td>\n",
              "      <td>...</td>\n",
              "      <td>...</td>\n",
              "      <td>...</td>\n",
              "    </tr>\n",
              "    <tr>\n",
              "      <th>793</th>\n",
              "      <td>album</td>\n",
              "      <td>Mariah Carey</td>\n",
              "      <td>Daydream</td>\n",
              "      <td>12</td>\n",
              "      <td>False</td>\n",
              "      <td>False</td>\n",
              "      <td>One Sweet Day</td>\n",
              "      <td>66</td>\n",
              "      <td>0.568</td>\n",
              "      <td>0.495</td>\n",
              "      <td>1</td>\n",
              "      <td>-8.964</td>\n",
              "      <td>1</td>\n",
              "      <td>0.0299</td>\n",
              "      <td>0.35300</td>\n",
              "      <td>0.000000</td>\n",
              "      <td>0.0839</td>\n",
              "      <td>0.303</td>\n",
              "      <td>128.234</td>\n",
              "      <td>281067</td>\n",
              "      <td>4</td>\n",
              "    </tr>\n",
              "    <tr>\n",
              "      <th>794</th>\n",
              "      <td>compilation</td>\n",
              "      <td>Mariah Carey</td>\n",
              "      <td>#1's</td>\n",
              "      <td>17</td>\n",
              "      <td>False</td>\n",
              "      <td>False</td>\n",
              "      <td>I'll Be There</td>\n",
              "      <td>0</td>\n",
              "      <td>0.402</td>\n",
              "      <td>0.509</td>\n",
              "      <td>5</td>\n",
              "      <td>-9.392</td>\n",
              "      <td>1</td>\n",
              "      <td>0.0324</td>\n",
              "      <td>0.68000</td>\n",
              "      <td>0.000000</td>\n",
              "      <td>0.8230</td>\n",
              "      <td>0.326</td>\n",
              "      <td>81.509</td>\n",
              "      <td>263933</td>\n",
              "      <td>4</td>\n",
              "    </tr>\n",
              "    <tr>\n",
              "      <th>795</th>\n",
              "      <td>album</td>\n",
              "      <td>Lighthouse Family</td>\n",
              "      <td>Postcards From Heaven</td>\n",
              "      <td>11</td>\n",
              "      <td>False</td>\n",
              "      <td>False</td>\n",
              "      <td>High</td>\n",
              "      <td>40</td>\n",
              "      <td>0.664</td>\n",
              "      <td>0.622</td>\n",
              "      <td>10</td>\n",
              "      <td>-8.505</td>\n",
              "      <td>1</td>\n",
              "      <td>0.0253</td>\n",
              "      <td>0.09940</td>\n",
              "      <td>0.073800</td>\n",
              "      <td>0.1120</td>\n",
              "      <td>0.614</td>\n",
              "      <td>102.342</td>\n",
              "      <td>310333</td>\n",
              "      <td>4</td>\n",
              "    </tr>\n",
              "    <tr>\n",
              "      <th>796</th>\n",
              "      <td>album</td>\n",
              "      <td>All Saints</td>\n",
              "      <td>All Saints</td>\n",
              "      <td>13</td>\n",
              "      <td>False</td>\n",
              "      <td>False</td>\n",
              "      <td>Never Ever</td>\n",
              "      <td>60</td>\n",
              "      <td>0.738</td>\n",
              "      <td>0.541</td>\n",
              "      <td>1</td>\n",
              "      <td>-5.485</td>\n",
              "      <td>1</td>\n",
              "      <td>0.0311</td>\n",
              "      <td>0.55900</td>\n",
              "      <td>0.000000</td>\n",
              "      <td>0.0492</td>\n",
              "      <td>0.309</td>\n",
              "      <td>134.187</td>\n",
              "      <td>387573</td>\n",
              "      <td>4</td>\n",
              "    </tr>\n",
              "    <tr>\n",
              "      <th>797</th>\n",
              "      <td>compilation</td>\n",
              "      <td>AC/DC</td>\n",
              "      <td>Backtracks</td>\n",
              "      <td>47</td>\n",
              "      <td>False</td>\n",
              "      <td>False</td>\n",
              "      <td>Big Gun</td>\n",
              "      <td>58</td>\n",
              "      <td>0.569</td>\n",
              "      <td>0.901</td>\n",
              "      <td>9</td>\n",
              "      <td>-5.197</td>\n",
              "      <td>1</td>\n",
              "      <td>0.0544</td>\n",
              "      <td>0.00555</td>\n",
              "      <td>0.260000</td>\n",
              "      <td>0.1600</td>\n",
              "      <td>0.839</td>\n",
              "      <td>133.194</td>\n",
              "      <td>259413</td>\n",
              "      <td>4</td>\n",
              "    </tr>\n",
              "  </tbody>\n",
              "</table>\n",
              "<p>19585 rows × 21 columns</p>\n",
              "</div>"
            ],
            "text/plain": [
              "      album_type                        artists  ... duration_ms  time_signature\n",
              "0          album                     Mac Miller  ...      195873               4\n",
              "1          album  Waylon Jennings~Willie Nelson  ...      184267               4\n",
              "2          album                     Bruno Mars  ...      217867               4\n",
              "3         single                  Anthem Lights  ...      155342               4\n",
              "4         single                           Roar  ...      198213               3\n",
              "..           ...                            ...  ...         ...             ...\n",
              "793        album                   Mariah Carey  ...      281067               4\n",
              "794  compilation                   Mariah Carey  ...      263933               4\n",
              "795        album              Lighthouse Family  ...      310333               4\n",
              "796        album                     All Saints  ...      387573               4\n",
              "797  compilation                          AC/DC  ...      259413               4\n",
              "\n",
              "[19585 rows x 21 columns]"
            ]
          },
          "metadata": {},
          "execution_count": 154
        }
      ]
    },
    {
      "cell_type": "code",
      "metadata": {
        "id": "EDjJDZF2l6PV"
      },
      "source": [
        "combined_df.drop_duplicates(inplace=True)"
      ],
      "execution_count": null,
      "outputs": []
    },
    {
      "cell_type": "code",
      "metadata": {
        "id": "X5cBgstb1fTl"
      },
      "source": [
        "combined_df.to_csv(\"combined_data.csv\", index=False)"
      ],
      "execution_count": null,
      "outputs": []
    }
  ]
}